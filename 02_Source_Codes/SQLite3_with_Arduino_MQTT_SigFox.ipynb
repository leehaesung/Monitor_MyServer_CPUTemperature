{
 "cells": [
  {
   "cell_type": "markdown",
   "metadata": {},
   "source": [
    "# SQLite3 with SigFox Arduino (MQTT)"
   ]
  },
  {
   "cell_type": "markdown",
   "metadata": {},
   "source": [
    "* How to search temperature data in Python"
   ]
  },
  {
   "cell_type": "code",
   "execution_count": 1,
   "metadata": {},
   "outputs": [
    {
     "name": "stdout",
     "output_type": "stream",
     "text": [
      "Opened database successfully\n",
      "Timestamp   =  1511846797164\n",
      "Local Time  =  171128162637\n",
      "Temperature =  29 \n",
      "\n",
      "Timestamp   =  1511918384536\n",
      "Local Time  =  171129121944\n",
      "Temperature =  29 \n",
      "\n",
      "Operation done successfully\n"
     ]
    }
   ],
   "source": [
    "import sqlite3\n",
    "\n",
    "conn = sqlite3.connect('/home/ubuntu/sqliteCpu')\n",
    "print \"Opened database successfully\";\n",
    "\n",
    "cursor = conn.execute(\"SELECT * from HOME WHERE TEMP = 29\")\n",
    "for row in cursor:\n",
    "   print \"Timestamp   = \", row[0]\n",
    "   print \"Local Time  = \", row[1]\n",
    "   print \"Temperature = \", row[2], \"\\n\"\n",
    "   \n",
    "\n",
    "print \"Operation done successfully\";\n",
    "conn.close()"
   ]
  },
  {
   "cell_type": "code",
   "execution_count": 2,
   "metadata": {
    "scrolled": true
   },
   "outputs": [
    {
     "name": "stdout",
     "output_type": "stream",
     "text": [
      "Opened database successfully\n",
      "\n",
      " Timestamp    | Local Time  | Temperature\n",
      "====================================================\n",
      "(1511846797164, 171128162637, 29)\n",
      "(1511918384536, 171129121944, 29)\n"
     ]
    }
   ],
   "source": [
    "#!/usr/bin/python\n",
    "\n",
    "import sqlite3\n",
    "\n",
    "conn = sqlite3.connect('/home/ubuntu/sqliteCpu')\n",
    "print \"Opened database successfully\"\n",
    "print \"\"\n",
    "print(\" Timestamp    | Local Time  | Temperature\")\n",
    "print(\"====================================================\")\n",
    "cursor = conn.execute(\"SELECT * from HOME WHERE TEMP = 29\")\n",
    "for row in cursor:\n",
    "    print(row[0],row[1],row[2])\n",
    "    \n",
    "conn.close()"
   ]
  },
  {
   "cell_type": "code",
   "execution_count": 3,
   "metadata": {
    "collapsed": true
   },
   "outputs": [],
   "source": [
    "import sqlite3\n",
    "\n",
    "def search_temperature(temp):\n",
    "    conn = sqlite3.connect('/home/ubuntu/sqliteCpu')\n",
    "\n",
    "    str1 = \"SELECT * FROM HOME WHERE TEMP = \"\n",
    "    str2 = str(temp)\n",
    "    str3 = \";\"\n",
    "    sql = str1 + str2 + str3\n",
    "    cursor = conn.execute(sql)\n",
    "\n",
    "    print \"Opened database successfully\"\n",
    "    print \"\"\n",
    "    print(\" Timestamp    | Local Time  | Temperature\")\n",
    "    print(\"====================================================\")\n",
    "    \n",
    "    for row in cursor:\n",
    "        print(row[0],row[1],row[2])"
   ]
  },
  {
   "cell_type": "code",
   "execution_count": 4,
   "metadata": {
    "scrolled": true
   },
   "outputs": [
    {
     "name": "stdout",
     "output_type": "stream",
     "text": [
      "Opened database successfully\n",
      "\n",
      " Timestamp    | Local Time  | Temperature\n",
      "====================================================\n",
      "(1511774938638, 171127202858, 34)\n",
      "(1511791940523, 171128011220, 34)\n",
      "(1511791970534, 171128011250, 34)\n",
      "(1511792000552, 171128011320, 34)\n",
      "(1511856311027, 171128190511, 34)\n",
      "(1511856641175, 171128191041, 34)\n",
      "(1511860288540, 171128201128, 34)\n",
      "(1511877691133, 171129010131, 34)\n",
      "(1511877721143, 171129010201, 34)\n",
      "(1511923097432, 171129133817, 34)\n",
      "(1511923127453, 171129133847, 34)\n",
      "(1511934608776, 171129165008, 34)\n",
      "(1511958506350, 171129232826, 34)\n",
      "(1511960872255, 171130000752, 34)\n",
      "(1511964357463, 171130010557, 34)\n",
      "(1511968751517, 171130021911, 34)\n"
     ]
    }
   ],
   "source": [
    "# Put any temperature.\n",
    "search_temperature(34)"
   ]
  },
  {
   "cell_type": "markdown",
   "metadata": {},
   "source": [
    "# Eclipse Paho™ MQTT Python Pub/Sub Client"
   ]
  },
  {
   "cell_type": "code",
   "execution_count": 3,
   "metadata": {},
   "outputs": [
    {
     "name": "stdout",
     "output_type": "stream",
     "text": [
      "laptopCpuTemp\n",
      "{\"data\":{\"time\":1511967430857,\"local\":171130015710,\"temp\":32.1}}\n",
      "laptopCpuTemp\n",
      "{\"data\":{\"time\":1511967460875,\"local\":171130015740,\"temp\":32.1}}\n"
     ]
    }
   ],
   "source": [
    "import sys\n",
    "try:\n",
    "    import paho.mqtt.subscribe as subscribe\n",
    "except ImportError:\n",
    "    # This part is only required to run the example from within the examples\n",
    "    # directory when the module itself is not installed.\n",
    "    #\n",
    "    # If you have the module installed, just use \"import paho.mqtt.subscribe\"\n",
    "    import os\n",
    "    import inspect\n",
    "    cmd_subfolder = os.path.realpath(os.path.abspath(os.path.join(os.path.split(inspect.getfile( inspect.currentframe() ))[0],\"../src\")))\n",
    "    if cmd_subfolder not in sys.path:\n",
    "        sys.path.insert(0, cmd_subfolder)\n",
    "    import paho.mqtt.subscribe as subscribe\n",
    "    import paho.mqtt.client\n",
    "\n",
    "topics = ['laptopCpuTemp']\n",
    "\n",
    "m = subscribe.simple(topics, hostname=\"iot.eclipse.org\", retained=False, msg_count=2)\n",
    "for a in m:\n",
    "    print(a.topic)\n",
    "    print(a.payload)"
   ]
  },
  {
   "cell_type": "code",
   "execution_count": null,
   "metadata": {
    "scrolled": false
   },
   "outputs": [
    {
     "name": "stdout",
     "output_type": "stream",
     "text": [
      "laptopCpuTemp : {\"data\":{\"time\":1511968781538,\"local\":171130021941,\"temp\":34.1}}\n",
      "laptopCpuTemp : {\"data\":{\"time\":1511968811549,\"local\":171130022011,\"temp\":34.2}}\n",
      "laptopCpuTemp : {\"data\":{\"time\":1511968841562,\"local\":171130022041,\"temp\":34.3}}\n",
      "laptopCpuTemp : {\"data\":{\"time\":1511968871574,\"local\":171130022111,\"temp\":34.3}}\n",
      "laptopCpuTemp : {\"data\":{\"time\":1511968901592,\"local\":171130022141,\"temp\":34.4}}\n",
      "laptopCpuTemp : {\"data\":{\"time\":1511968931603,\"local\":171130022211,\"temp\":34.4}}\n",
      "laptopCpuTemp : {\"data\":{\"time\":1511968961621,\"local\":171130022241,\"temp\":34.4}}\n",
      "laptopCpuTemp : {\"data\":{\"time\":1511968991640,\"local\":171130022311,\"temp\":34.4}}\n",
      "laptopCpuTemp : {\"data\":{\"time\":1511969021662,\"local\":171130022341,\"temp\":34.4}}\n",
      "laptopCpuTemp : {\"data\":{\"time\":1511969051683,\"local\":171130022411,\"temp\":34.4}}\n",
      "laptopCpuTemp : {\"data\":{\"time\":1511969081698,\"local\":171130022441,\"temp\":34.5}}\n",
      "laptopCpuTemp : {\"data\":{\"time\":1511969111720,\"local\":171130022511,\"temp\":34.5}}\n",
      "laptopCpuTemp : {\"data\":{\"time\":1511969141738,\"local\":171130022541,\"temp\":34.6}}\n",
      "laptopCpuTemp : {\"data\":{\"time\":1511969171751,\"local\":171130022611,\"temp\":34.7}}\n",
      "laptopCpuTemp : {\"data\":{\"time\":1511969201765,\"local\":171130022641,\"temp\":34.7}}\n",
      "laptopCpuTemp : {\"data\":{\"time\":1511969231777,\"local\":171130022711,\"temp\":34.8}}\n"
     ]
    }
   ],
   "source": [
    "import sys\n",
    "try:\n",
    "    import paho.mqtt.subscribe as subscribe\n",
    "except ImportError:\n",
    "    # This part is only required to run the example from within the examples\n",
    "    # directory when the module itself is not installed.\n",
    "    #\n",
    "    # If you have the module installed, just use \"import paho.mqtt.subscribe\"\n",
    "    import os\n",
    "    import inspect\n",
    "    cmd_subfolder = os.path.realpath(os.path.abspath(os.path.join(os.path.split(inspect.getfile( inspect.currentframe() ))[0],\"../src\")))\n",
    "    if cmd_subfolder not in sys.path:\n",
    "        sys.path.insert(0, cmd_subfolder)\n",
    "    import paho.mqtt.subscribe as subscribe\n",
    "    import paho.mqtt.client\n",
    "\n",
    "def print_msg(client, userdata, message):\n",
    "    print(\"%s : %s\" % (message.topic, message.payload))\n",
    "    buf = message.payload\n",
    "    \n",
    "subscribe.callback(print_msg, \"laptopCpuTemp\", hostname=\"iot.eclipse.org\")"
   ]
  },
  {
   "cell_type": "markdown",
   "metadata": {},
   "source": [
    "## Create Table"
   ]
  },
  {
   "cell_type": "code",
   "execution_count": 4,
   "metadata": {
    "scrolled": true
   },
   "outputs": [
    {
     "name": "stdout",
     "output_type": "stream",
     "text": [
      "Table created successfully\n"
     ]
    }
   ],
   "source": [
    "import sqlite3\n",
    "\n",
    "conn = sqlite3.connect('sqliteCpu02')\n",
    "conn.execute('''CREATE TABLE HOME\n",
    "         (TIME INT PRIMARY KEY     NOT NULL,\n",
    "         LOCAL           INT    NOT NULL,\n",
    "         TEMP            INT     NOT NULL);''')\n",
    "print \"Table created successfully\";\n",
    "\n",
    "conn.close()"
   ]
  },
  {
   "cell_type": "markdown",
   "metadata": {},
   "source": [
    "## Insert Operation For Unit"
   ]
  },
  {
   "cell_type": "code",
   "execution_count": 8,
   "metadata": {},
   "outputs": [
    {
     "name": "stdout",
     "output_type": "stream",
     "text": [
      "Opened database successfully\n",
      "Records created successfully\n"
     ]
    }
   ],
   "source": [
    "import sqlite3\n",
    "\n",
    "conn = sqlite3.connect('sqliteCpu02')\n",
    "print \"Opened database successfully\";\n",
    "\n",
    "conn.execute(\"INSERT INTO HOME (TIME,LOCAL,TEMP) \\\n",
    "      VALUES (1511959596275, 171129234636, 35.7 )\");\n",
    "\n",
    "conn.commit()\n",
    "print \"Records created successfully\";\n",
    "conn.close()"
   ]
  },
  {
   "cell_type": "markdown",
   "metadata": {},
   "source": [
    "##  INSERT Operation"
   ]
  },
  {
   "cell_type": "code",
   "execution_count": null,
   "metadata": {
    "scrolled": false
   },
   "outputs": [
    {
     "name": "stdout",
     "output_type": "stream",
     "text": [
      "Opened database successfully\n",
      "\n",
      "INSERT OPERATION\n",
      " Timestamp      | Local Time    | Temperature\n",
      "====================================================\n",
      "('1511972383459', '171130031943', '40.4')\n",
      "('1511972413490', '171130032013', '40.4')\n",
      "('1511972443513', '171130032043', '40.3')\n",
      "('1511972473525', '171130032113', '40.3')\n"
     ]
    }
   ],
   "source": [
    "import sys \n",
    "import sqlite3\n",
    "\n",
    "conn = sqlite3.connect('sqliteCpu02')\n",
    "print \"Opened database successfully\";\n",
    "print \"\"\n",
    "print \"INSERT OPERATION\"\n",
    "print(\" Timestamp      | Local Time    | Temperature\")\n",
    "print(\"====================================================\")\n",
    "\n",
    "try:\n",
    "    import paho.mqtt.subscribe as subscribe\n",
    "except ImportError:\n",
    "    # This part is only required to run the example from within the examples\n",
    "    # directory when the module itself is not installed.\n",
    "    #\n",
    "    # If you have the module installed, just use \"import paho.mqtt.subscribe\"\n",
    "    import os\n",
    "    import inspect\n",
    "    cmd_subfolder = os.path.realpath(os.path.abspath(os.path.join(os.path.split(inspect.getfile( inspect.currentframe() ))[0],\"../src\")))\n",
    "    if cmd_subfolder not in sys.path:\n",
    "        sys.path.insert(0, cmd_subfolder)\n",
    "    import paho.mqtt.subscribe as subscribe\n",
    "    import paho.mqtt.client\n",
    "\n",
    "def print_msg(client, userdata, message):\n",
    "    #print(\"%s : %s\" % (message.topic, message.payload))\n",
    "    data = message.payload\n",
    "    # {\"data\":{\"time\":1511964507557,\"local\":171130010827,\"temp\":34.3}}\n",
    "    time = str(data[16:-35])\n",
    "    local = str(data[38:-14])\n",
    "    temp = str(data[58:-2])\n",
    "    print(time, local, temp)\n",
    "    #print(local)\n",
    "    #print(temp)\n",
    "    \n",
    "    str1 = \"INSERT INTO HOME (TIME,LOCAL,TEMP) \\\n",
    "      VALUES (\"\n",
    "    str2 = str(time)\n",
    "    str3 = \", \"\n",
    "    str4 = str(local)\n",
    "    str5 = \", \"\n",
    "    str6 = str(temp)\n",
    "    str7 = \" )\"\n",
    "    insert = str1 + str2 + str3 + str4 + str5 + str6 + str7\n",
    "    conn.execute(insert)\n",
    "    conn.commit()\n",
    "\n",
    "subscribe.callback(print_msg, \"laptopCpuTemp\", hostname=\"iot.eclipse.org\")"
   ]
  },
  {
   "cell_type": "markdown",
   "metadata": {},
   "source": [
    "# SELECT Operation"
   ]
  },
  {
   "cell_type": "code",
   "execution_count": 1,
   "metadata": {
    "scrolled": true
   },
   "outputs": [
    {
     "name": "stdout",
     "output_type": "stream",
     "text": [
      "Opened database successfully\n",
      "\n",
      " Timestamp    | Local Time  | Temperature\n",
      "====================================================\n",
      "(1511959596275, 171129234636, 35.7)\n",
      "(15119703424, 1711300245, 37)\n",
      "(1511970372474, 171130024612, 37.1)\n",
      "(1511970402495, 171130024642, 37.3)\n",
      "(1511970432517, 171130024712, 37.4)\n",
      "(1511970462544, 171130024742, 37.4)\n",
      "(1511970492554, 171130024812, 37.5)\n",
      "(1511970522561, 171130024842, 37.5)\n",
      "(1511970552573, 171130024912, 37.6)\n",
      "(1511970582579, 171130024942, 37.7)\n",
      "(1511970612589, 171130025012, 37.9)\n",
      "(15119706426, 1711300250, 38)\n",
      "(1511970672609, 171130025112, 38.2)\n",
      "(1511970702620, 171130025142, 38.3)\n",
      "(1511970732639, 171130025212, 38.5)\n",
      "(1511970762656, 171130025242, 38.6)\n",
      "(1511970792674, 171130025312, 38.7)\n",
      "(1511970822679, 171130025342, 38.8)\n",
      "(1511970852690, 171130025412, 38.9)\n",
      "(15119708827, 1711300254, 39)\n",
      "(1511970912720, 171130025512, 39.1)\n",
      "(1511971122817, 171130025842, 39.5)\n",
      "(1511971152827, 171130025912, 39.6)\n",
      "(1511971182842, 171130025942, 39.6)\n",
      "(1511971212856, 171130030012, 39.6)\n",
      "(1511971242870, 171130030042, 39.6)\n",
      "(1511971272878, 171130030112, 39.6)\n",
      "(1511971302890, 171130030142, 39.7)\n",
      "(1511971332913, 171130030212, 39.7)\n",
      "(1511971362929, 171130030242, 39.8)\n",
      "(1511971392953, 171130030312, 39.8)\n",
      "(1511971452980, 171130030412, 39.9)\n",
      "(1511971483005, 171130030443, 39.9)\n",
      "(15119715130, 1711300305, 40)\n",
      "(15119715430, 1711300305, 40)\n",
      "(1511971573064, 171130030613, 40.1)\n",
      "(1511971603076, 171130030643, 40.2)\n",
      "(1511971633089, 171130030713, 40.2)\n",
      "(1511971663110, 171130030743, 40.2)\n",
      "(1511971693127, 171130030813, 40.2)\n",
      "(1511972203361, 171130031643, 40.6)\n",
      "(1511972233370, 171130031713, 40.6)\n",
      "(1511972263380, 171130031743, 40.6)\n",
      "(1511972293407, 171130031813, 40.6)\n",
      "(1511972323426, 171130031843, 40.6)\n"
     ]
    }
   ],
   "source": [
    "#!/usr/bin/python\n",
    "\n",
    "import sqlite3\n",
    "\n",
    "conn = sqlite3.connect('sqliteCpu02')\n",
    "print \"Opened database successfully\"\n",
    "print \"\"\n",
    "print(\" Timestamp    | Local Time  | Temperature\")\n",
    "print(\"====================================================\")\n",
    "cursor = conn.execute(\"SELECT * from HOME WHERE TEMP\")\n",
    "for row in cursor:\n",
    "    print(row[0],row[1],row[2])\n",
    "    \n",
    "conn.close()"
   ]
  },
  {
   "cell_type": "code",
   "execution_count": null,
   "metadata": {
    "collapsed": true
   },
   "outputs": [],
   "source": [
    "# END"
   ]
  }
 ],
 "metadata": {
  "kernelspec": {
   "display_name": "Python 2",
   "language": "python",
   "name": "python2"
  },
  "language_info": {
   "codemirror_mode": {
    "name": "ipython",
    "version": 2
   },
   "file_extension": ".py",
   "mimetype": "text/x-python",
   "name": "python",
   "nbconvert_exporter": "python",
   "pygments_lexer": "ipython2",
   "version": "2.7.6"
  }
 },
 "nbformat": 4,
 "nbformat_minor": 2
}
