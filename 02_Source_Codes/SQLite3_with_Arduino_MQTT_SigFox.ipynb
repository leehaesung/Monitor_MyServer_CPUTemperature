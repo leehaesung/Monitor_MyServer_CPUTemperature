{
 "cells": [
  {
   "cell_type": "markdown",
   "metadata": {},
   "source": [
    "# SQLite3 with SigFox Arduino (MQTT)"
   ]
  },
  {
   "cell_type": "markdown",
   "metadata": {},
   "source": [
    "* How to search temperature data in Python"
   ]
  },
  {
   "cell_type": "code",
   "execution_count": 1,
   "metadata": {},
   "outputs": [
    {
     "name": "stdout",
     "output_type": "stream",
     "text": [
      "Opened database successfully\n",
      "Timestamp   =  1511846797164\n",
      "Local Time  =  171128162637\n",
      "Temperature =  29 \n",
      "\n",
      "Timestamp   =  1511918384536\n",
      "Local Time  =  171129121944\n",
      "Temperature =  29 \n",
      "\n",
      "Operation done successfully\n"
     ]
    }
   ],
   "source": [
    "import sqlite3\n",
    "\n",
    "conn = sqlite3.connect('/home/ubuntu/sqliteCpu')\n",
    "print \"Opened database successfully\";\n",
    "\n",
    "cursor = conn.execute(\"SELECT * from HOME WHERE TEMP = 29\")\n",
    "for row in cursor:\n",
    "   print \"Timestamp   = \", row[0]\n",
    "   print \"Local Time  = \", row[1]\n",
    "   print \"Temperature = \", row[2], \"\\n\"\n",
    "   \n",
    "\n",
    "print \"Operation done successfully\";\n",
    "conn.close()"
   ]
  },
  {
   "cell_type": "code",
   "execution_count": 2,
   "metadata": {},
   "outputs": [
    {
     "name": "stdout",
     "output_type": "stream",
     "text": [
      "Opened database successfully\n",
      "\n",
      " Timestamp    | Local Time  | Temperature\n",
      "====================================================\n",
      "(1511846797164, 171128162637, 29)\n",
      "(1511918384536, 171129121944, 29)\n"
     ]
    }
   ],
   "source": [
    "#!/usr/bin/python\n",
    "\n",
    "import sqlite3\n",
    "\n",
    "conn = sqlite3.connect('/home/ubuntu/sqliteCpu')\n",
    "print \"Opened database successfully\"\n",
    "print \"\"\n",
    "print(\" Timestamp    | Local Time  | Temperature\")\n",
    "print(\"====================================================\")\n",
    "cursor = conn.execute(\"SELECT * from HOME WHERE TEMP = 29\")\n",
    "for row in cursor:\n",
    "    print(row[0],row[1],row[2])\n",
    "    \n",
    "conn.close()"
   ]
  },
  {
   "cell_type": "code",
   "execution_count": 3,
   "metadata": {
    "collapsed": true
   },
   "outputs": [],
   "source": [
    "import sqlite3\n",
    "\n",
    "def search_temperature(temp):\n",
    "    conn = sqlite3.connect('/home/ubuntu/sqliteCpu')\n",
    "\n",
    "    str1 = \"SELECT * FROM HOME WHERE TEMP = \"\n",
    "    str2 = str(temp)\n",
    "    str3 = \";\"\n",
    "    sql = str1 + str2 + str3\n",
    "    cursor = conn.execute(sql)\n",
    "\n",
    "    print \"Opened database successfully\"\n",
    "    print \"\"\n",
    "    print(\" Timestamp    | Local Time  | Temperature\")\n",
    "    print(\"====================================================\")\n",
    "    \n",
    "    for row in cursor:\n",
    "        print(row[0],row[1],row[2])"
   ]
  },
  {
   "cell_type": "code",
   "execution_count": 4,
   "metadata": {},
   "outputs": [
    {
     "name": "stdout",
     "output_type": "stream",
     "text": [
      "Opened database successfully\n",
      "\n",
      " Timestamp    | Local Time  | Temperature\n",
      "====================================================\n",
      "(1511774938638, 171127202858, 34)\n",
      "(1511791940523, 171128011220, 34)\n",
      "(1511791970534, 171128011250, 34)\n",
      "(1511792000552, 171128011320, 34)\n",
      "(1511856311027, 171128190511, 34)\n",
      "(1511856641175, 171128191041, 34)\n",
      "(1511860288540, 171128201128, 34)\n",
      "(1511877691133, 171129010131, 34)\n",
      "(1511877721143, 171129010201, 34)\n",
      "(1511923097432, 171129133817, 34)\n",
      "(1511923127453, 171129133847, 34)\n",
      "(1511934608776, 171129165008, 34)\n"
     ]
    }
   ],
   "source": [
    "# Put any temperature.\n",
    "search_temperature(34)"
   ]
  },
  {
   "cell_type": "code",
   "execution_count": 3,
   "metadata": {
    "collapsed": true
   },
   "outputs": [],
   "source": [
    "# END"
   ]
  }
 ],
 "metadata": {
  "kernelspec": {
   "display_name": "Python 2",
   "language": "python",
   "name": "python2"
  },
  "language_info": {
   "codemirror_mode": {
    "name": "ipython",
    "version": 2
   },
   "file_extension": ".py",
   "mimetype": "text/x-python",
   "name": "python",
   "nbconvert_exporter": "python",
   "pygments_lexer": "ipython2",
   "version": "2.7.6"
  }
 },
 "nbformat": 4,
 "nbformat_minor": 2
}
