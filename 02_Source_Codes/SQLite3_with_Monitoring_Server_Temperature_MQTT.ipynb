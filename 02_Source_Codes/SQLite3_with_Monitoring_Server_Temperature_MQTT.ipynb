{
 "cells": [
  {
   "cell_type": "markdown",
   "metadata": {},
   "source": [
    "# Monitoring Server Temperature With SQLite3 in Real Time"
   ]
  },
  {
   "cell_type": "markdown",
   "metadata": {},
   "source": [
    "* How to install MQTT:\n",
    "\n",
    "```\n",
    "sudo pip install paho-mqtt\n",
    "```"
   ]
  },
  {
   "cell_type": "markdown",
   "metadata": {},
   "source": [
    "* How to search temperature data in Python"
   ]
  },
  {
   "cell_type": "code",
   "execution_count": 1,
   "metadata": {
    "scrolled": false
   },
   "outputs": [
    {
     "name": "stdout",
     "output_type": "stream",
     "text": [
      "Opened database successfully\n",
      "Timestamp   =  1512009540772\n",
      "Local Time  =  1512009540772\n",
      "Temperature =  36.6 \n",
      "\n",
      "Timestamp   =  1512009550783\n",
      "Local Time  =  1512009550783\n",
      "Temperature =  36.6 \n",
      "\n",
      "Timestamp   =  1512009560795\n",
      "Local Time  =  1512009560795\n",
      "Temperature =  36.6 \n",
      "\n",
      "Timestamp   =  1512009570810\n",
      "Local Time  =  1512009570810\n",
      "Temperature =  36.6 \n",
      "\n",
      "Operation done successfully\n"
     ]
    }
   ],
   "source": [
    "import sqlite3\n",
    "\n",
    "conn = sqlite3.connect('sqliteCpu02')\n",
    "print \"Opened database successfully\";\n",
    "\n",
    "cursor = conn.execute(\"SELECT * from HOME WHERE TEMP = 36.6\")\n",
    "for row in cursor:\n",
    "   print \"Timestamp   = \", row[0]\n",
    "   print \"Local Time  = \", row[1]\n",
    "   print \"Temperature = \", row[2], \"\\n\"\n",
    "   \n",
    "\n",
    "print \"Operation done successfully\";\n",
    "conn.close()"
   ]
  },
  {
   "cell_type": "code",
   "execution_count": 2,
   "metadata": {
    "scrolled": true
   },
   "outputs": [
    {
     "name": "stdout",
     "output_type": "stream",
     "text": [
      "Opened database successfully\n",
      "\n",
      " Timestamp    | Local Time  | Temperature\n",
      "====================================================\n",
      "(1512009540772, 1512009540772, 36.6)\n",
      "(1512009550783, 1512009550783, 36.6)\n",
      "(1512009560795, 1512009560795, 36.6)\n",
      "(1512009570810, 1512009570810, 36.6)\n"
     ]
    }
   ],
   "source": [
    "#!/usr/bin/python\n",
    "\n",
    "import sqlite3\n",
    "\n",
    "conn = sqlite3.connect('sqliteCpu02')\n",
    "print \"Opened database successfully\"\n",
    "print \"\"\n",
    "print(\" Timestamp    | Local Time  | Temperature\")\n",
    "print(\"====================================================\")\n",
    "cursor = conn.execute(\"SELECT * from HOME WHERE TEMP = 36.6\")\n",
    "for row in cursor:\n",
    "    print(row[0],row[1],row[2])\n",
    "    \n",
    "conn.close()"
   ]
  },
  {
   "cell_type": "code",
   "execution_count": 3,
   "metadata": {
    "collapsed": true
   },
   "outputs": [],
   "source": [
    "import sqlite3\n",
    "\n",
    "def search_temperature(temp):\n",
    "    conn = sqlite3.connect('sqliteCpu02')\n",
    "\n",
    "    str1 = \"SELECT * FROM HOME WHERE TEMP = \"\n",
    "    str2 = str(temp)\n",
    "    str3 = \";\"\n",
    "    sql = str1 + str2 + str3\n",
    "    cursor = conn.execute(sql)\n",
    "\n",
    "    print \"Opened database successfully\"\n",
    "    print \"\"\n",
    "    print(\" Timestamp    | Local Time  | Temperature\")\n",
    "    print(\"====================================================\")\n",
    "    \n",
    "    for row in cursor:\n",
    "        print(row[0],row[1],row[2])"
   ]
  },
  {
   "cell_type": "code",
   "execution_count": 4,
   "metadata": {
    "scrolled": true
   },
   "outputs": [
    {
     "name": "stdout",
     "output_type": "stream",
     "text": [
      "Opened database successfully\n",
      "\n",
      " Timestamp    | Local Time  | Temperature\n",
      "====================================================\n",
      "(1512009540772, 1512009540772, 36.6)\n",
      "(1512009550783, 1512009550783, 36.6)\n",
      "(1512009560795, 1512009560795, 36.6)\n",
      "(1512009570810, 1512009570810, 36.6)\n"
     ]
    }
   ],
   "source": [
    "# Put any temperature.\n",
    "search_temperature(36.6)"
   ]
  },
  {
   "cell_type": "markdown",
   "metadata": {},
   "source": [
    "# Eclipse Paho™ MQTT Python Pub/Sub Client"
   ]
  },
  {
   "cell_type": "code",
   "execution_count": 10,
   "metadata": {},
   "outputs": [
    {
     "name": "stdout",
     "output_type": "stream",
     "text": [
      "laptopCpuTemp\n",
      "{\"data\":{\"time\":1512009913048,\"local\":171130134513,\"temp\":37.5}}\n",
      "laptopCpuTemp\n",
      "{\"data\":{\"time\":1512009943055,\"local\":171130134543,\"temp\":37.6}}\n"
     ]
    }
   ],
   "source": [
    "import sys\n",
    "try:\n",
    "    import paho.mqtt.subscribe as subscribe\n",
    "except ImportError:\n",
    "    # This part is only required to run the example from within the examples\n",
    "    # directory when the module itself is not installed.\n",
    "    #\n",
    "    # If you have the module installed, just use \"import paho.mqtt.subscribe\"\n",
    "    import os\n",
    "    import inspect\n",
    "    cmd_subfolder = os.path.realpath(os.path.abspath(os.path.join(os.path.split(inspect.getfile( inspect.currentframe() ))[0],\"../src\")))\n",
    "    if cmd_subfolder not in sys.path:\n",
    "        sys.path.insert(0, cmd_subfolder)\n",
    "    import paho.mqtt.subscribe as subscribe\n",
    "    import paho.mqtt.client\n",
    "\n",
    "topics = ['laptopCpuTemp']\n",
    "\n",
    "m = subscribe.simple(topics, hostname=\"iot.eclipse.org\", retained=False, msg_count=2)\n",
    "for a in m:\n",
    "    print(a.topic)\n",
    "    print(a.payload)"
   ]
  },
  {
   "cell_type": "code",
   "execution_count": null,
   "metadata": {
    "scrolled": false
   },
   "outputs": [
    {
     "name": "stdout",
     "output_type": "stream",
     "text": [
      "laptopCpuTemp : {\"data\":{\"time\":1512009973069,\"local\":171130134613,\"temp\":37.6}}\n",
      "laptopCpuTemp : {\"data\":{\"time\":1512010003076,\"local\":171130134643,\"temp\":37.6}}\n",
      "laptopCpuTemp : {\"data\":{\"time\":1512010033092,\"local\":171130134713,\"temp\":37.5}}\n",
      "laptopCpuTemp : {\"data\":{\"time\":1512010063103,\"local\":171130134743,\"temp\":37.5}}\n",
      "laptopCpuTemp : {\"data\":{\"time\":1512010093119,\"local\":171130134813,\"temp\":37.4}}\n",
      "laptopCpuTemp : {\"data\":{\"time\":1512010123137,\"local\":171130134843,\"temp\":37.3}}\n"
     ]
    }
   ],
   "source": [
    "import sys\n",
    "try:\n",
    "    import paho.mqtt.subscribe as subscribe\n",
    "except ImportError:\n",
    "    # This part is only required to run the example from within the examples\n",
    "    # directory when the module itself is not installed.\n",
    "    #\n",
    "    # If you have the module installed, just use \"import paho.mqtt.subscribe\"\n",
    "    import os\n",
    "    import inspect\n",
    "    cmd_subfolder = os.path.realpath(os.path.abspath(os.path.join(os.path.split(inspect.getfile( inspect.currentframe() ))[0],\"../src\")))\n",
    "    if cmd_subfolder not in sys.path:\n",
    "        sys.path.insert(0, cmd_subfolder)\n",
    "    import paho.mqtt.subscribe as subscribe\n",
    "    import paho.mqtt.client\n",
    "\n",
    "def print_msg(client, userdata, message):\n",
    "    print(\"%s : %s\" % (message.topic, message.payload))\n",
    "    buf = message.payload\n",
    "    \n",
    "subscribe.callback(print_msg, \"laptopCpuTemp\", hostname=\"iot.eclipse.org\")"
   ]
  },
  {
   "cell_type": "markdown",
   "metadata": {},
   "source": [
    "## CREATE TABLE"
   ]
  },
  {
   "cell_type": "code",
   "execution_count": 13,
   "metadata": {
    "scrolled": true
   },
   "outputs": [
    {
     "name": "stdout",
     "output_type": "stream",
     "text": [
      "Table created successfully\n"
     ]
    }
   ],
   "source": [
    "import sqlite3\n",
    "\n",
    "conn = sqlite3.connect('sqliteCpu02')\n",
    "conn.execute('''CREATE TABLE HOME\n",
    "         (TIME INT PRIMARY KEY     NOT NULL,\n",
    "         LOCAL           INT    NOT NULL,\n",
    "         TEMP            INT     NOT NULL);''')\n",
    "print \"Table created successfully\";\n",
    "\n",
    "conn.close()"
   ]
  },
  {
   "cell_type": "markdown",
   "metadata": {},
   "source": [
    "## INSERT OPERATION FOR UNIT TESTING"
   ]
  },
  {
   "cell_type": "code",
   "execution_count": 10,
   "metadata": {},
   "outputs": [
    {
     "name": "stdout",
     "output_type": "stream",
     "text": [
      "Opened database successfully\n",
      "Records created successfully\n"
     ]
    }
   ],
   "source": [
    "import sqlite3\n",
    "\n",
    "conn = sqlite3.connect('sqliteCpu02')\n",
    "print \"Opened database successfully\";\n",
    "\n",
    "conn.execute(\"INSERT INTO HOME (TIME,LOCAL,TEMP) \\\n",
    "      VALUES (1511959596275, 171129234636, 35.7 )\");\n",
    "\n",
    "conn.commit()\n",
    "print \"Records created successfully\";\n",
    "conn.close()"
   ]
  },
  {
   "cell_type": "markdown",
   "metadata": {},
   "source": [
    "##  INSERT OPERATION"
   ]
  },
  {
   "cell_type": "code",
   "execution_count": null,
   "metadata": {
    "scrolled": true
   },
   "outputs": [
    {
     "name": "stdout",
     "output_type": "stream",
     "text": [
      "Opened database successfully\n",
      "\n",
      "INSERT OPERATION\n",
      " Timestamp      | Local Time    | Temperature\n",
      "====================================================\n",
      "('1512016571581', '171130153611', '27.9')\n",
      "('1512016601592', '171130153641', '28')\n",
      "('1512016631597', '171130153711', '28.2')\n",
      "('1512016661609', '171130153741', '28.3')\n",
      "('1512016691621', '171130153811', '28.4')\n",
      "('1512016721627', '171130153841', '28.5')\n",
      "('1512016751634', '171130153911', '28.5')\n",
      "('1512016781646', '171130153941', '28.6')\n",
      "('1512016811658', '171130154011', '28.6')\n",
      "('1512016841674', '171130154041', '28.7')\n",
      "('1512016871686', '171130154111', '28.7')\n",
      "('1512016901695', '171130154141', '28.9')\n",
      "('1512016931701', '171130154211', '29')\n",
      "('1512016961716', '171130154241', '29.1')\n",
      "('1512016991729', '171130154311', '29.3')\n",
      "('1512017021742', '171130154341', '29.4')\n",
      "('1512017051756', '171130154411', '29.5')\n",
      "('1512017081770', '171130154441', '29.6')\n",
      "('1512017111783', '171130154511', '29.6')\n",
      "('1512017141797', '171130154541', '29.8')\n",
      "('1512017171811', '171130154611', '29.9')\n",
      "('1512017201823', '171130154641', '30.1')\n",
      "('1512017231844', '171130154711', '30.3')\n",
      "('1512017261859', '171130154741', '30.4')\n",
      "('1512017291871', '171130154811', '30.6')\n",
      "('1512017321884', '171130154841', '30.9')\n",
      "('1512017351903', '171130154911', '31.2')\n",
      "('1512017381910', '171130154941', '31.3')\n",
      "('1512017411921', '171130155011', '31.5')\n",
      "('1512017441933', '171130155041', '31.6')\n",
      "('1512017471951', '171130155111', '31.8')\n",
      "('1512017501966', '171130155141', '31.9')\n",
      "('1512017531989', '171130155211', '32.1')\n",
      "('1512017562004', '171130155242', '32.2')\n",
      "('1512017592018', '171130155312', '32.3')\n",
      "('1512017622031', '171130155342', '32.5')\n",
      "('1512017652043', '171130155412', '32.6')\n",
      "('1512017682072', '171130155442', '32.7')\n",
      "('1512017712089', '171130155512', '32.7')\n",
      "('1512017742103', '171130155542', '32.8')\n",
      "('1512017772126', '171130155612', '32.8')\n",
      "('1512017802139', '171130155642', '32.9')\n",
      "('1512017832151', '171130155712', '32.9')\n",
      "('1512017862159', '171130155742', '33')\n",
      "('1512017892168', '171130155812', '33')\n",
      "('1512017922184', '171130155842', '33.1')\n",
      "('1512017952200', '171130155912', '33.1')\n",
      "('1512017982219', '171130155942', '33.2')\n",
      "('1512018012236', '171130160012', '33.3')\n",
      "('1512018042259', '171130160042', '33.3')\n",
      "('1512018072275', '171130160112', '33.3')\n",
      "('1512018102291', '171130160142', '33.3')\n",
      "('1512018132302', '171130160212', '33.3')\n",
      "('1512018162320', '171130160242', '33.3')\n",
      "('1512018192339', '171130160312', '33.4')\n",
      "('1512018222349', '171130160342', '33.4')\n",
      "('1512018252357', '171130160412', '33.5')\n",
      "('1512018282370', '171130160442', '33.5')\n",
      "('1512018312377', '171130160512', '33.5')\n",
      "('1512018342392', '171130160542', '33.6')\n",
      "('1512018372399', '171130160612', '33.6')\n",
      "('1512018402415', '171130160642', '33.6')\n",
      "('1512018432423', '171130160712', '33.7')\n",
      "('1512018462435', '171130160742', '33.7')\n",
      "('1512018492441', '171130160812', '33.7')\n",
      "('1512018522451', '171130160842', '33.7')\n",
      "('1512018552461', '171130160912', '33.7')\n",
      "('1512018582475', '171130160942', '33.8')\n",
      "('1512018612488', '171130161012', '33.9')\n",
      "('1512018642505', '171130161042', '34')\n",
      "('1512018672513', '171130161112', '34.2')\n",
      "('1512018702532', '171130161142', '34.3')\n",
      "('1512018732542', '171130161212', '34.4')\n",
      "('1512018762561', '171130161242', '34.4')\n",
      "('1512018792569', '171130161312', '34.5')\n",
      "('1512018822586', '171130161342', '34.5')\n",
      "('1512018852592', '171130161412', '34.6')\n",
      "('1512018882607', '171130161442', '34.6')\n",
      "('1512018912619', '171130161512', '34.6')\n",
      "('1512018942641', '171130161542', '34.6')\n",
      "('1512018972648', '171130161612', '34.6')\n",
      "('1512019002663', '171130161642', '34.6')\n",
      "('1512019032679', '171130161712', '34.6')\n",
      "('1512019062697', '171130161742', '34.7')\n",
      "('1512019092704', '171130161812', '34.7')\n",
      "('1512019122713', '171130161842', '34.8')\n",
      "('1512019152719', '171130161912', '34.8')\n",
      "('1512019182735', '171130161942', '34.9')\n",
      "('1512019212752', '171130162012', '34.9')\n",
      "('1512019242763', '171130162042', '35')\n",
      "('1512019272776', '171130162112', '35')\n",
      "('1512019302791', '171130162142', '35.2')\n",
      "('1512019332801', '171130162212', '35.4')\n",
      "('1512019362813', '171130162242', '35.6')\n",
      "('1512019392825', '171130162312', '35.8')\n",
      "('1512019422842', '171130162342', '36')\n",
      "('1512019452857', '171130162412', '36.1')\n",
      "('1512019482871', '171130162442', '36.2')\n",
      "('1512019512879', '171130162512', '36.4')\n",
      "('1512019542898', '171130162542', '36.5')\n",
      "('1512019572911', '171130162612', '36.6')\n",
      "('1512019602922', '171130162642', '36.6')\n",
      "('1512019632937', '171130162712', '36.6')\n",
      "('1512019662953', '171130162742', '36.7')\n",
      "('1512019692961', '171130162812', '36.7')\n",
      "('1512019722976', '171130162842', '36.7')\n",
      "('1512019752988', '171130162912', '36.7')\n",
      "('1512019783007', '171130162943', '36.7')\n",
      "('1512019813014', '171130163013', '36.8')\n",
      "('1512019843031', '171130163043', '36.8')\n",
      "('1512019873046', '171130163113', '36.8')\n",
      "('1512019903062', '171130163143', '36.9')\n",
      "('1512019933087', '171130163213', '36.9')\n",
      "('1512019963104', '171130163243', '36.9')\n",
      "('1512019993110', '171130163313', '37')\n",
      "('1512020023126', '171130163343', '37')\n",
      "('1512020053133', '171130163413', '37')\n",
      "('1512020083147', '171130163443', '37.1')\n",
      "('1512020113158', '171130163513', '37.1')\n",
      "('1512020143166', '171130163543', '37.2')\n",
      "('1512020173173', '171130163613', '37.2')\n",
      "('1512020203191', '171130163643', '37.2')\n",
      "('1512020233209', '171130163713', '37.2')\n",
      "('1512020263223', '171130163743', '37.3')\n",
      "('1512020293230', '171130163813', '37.3')\n",
      "('1512020323243', '171130163843', '37.4')\n",
      "('1512020353252', '171130163913', '37.5')\n",
      "('1512020383265', '171130163943', '37.5')\n",
      "('1512020413271', '171130164013', '37.6')\n",
      "('1512020443294', '171130164043', '37.8')\n",
      "('1512020473308', '171130164113', '37.9')\n",
      "('1512020503323', '171130164143', '37.9')\n",
      "('1512020533330', '171130164213', '37.9')\n",
      "('1512020563347', '171130164243', '38')\n",
      "('1512020593355', '171130164313', '38')\n",
      "('1512020623367', '171130164343', '38')\n",
      "('1512020653374', '171130164413', '38')\n",
      "('1512020683387', '171130164443', '38')\n",
      "('1512020713395', '171130164513', '38')\n",
      "('1512020743413', '171130164543', '38')\n",
      "('1512020773419', '171130164613', '38.1')\n",
      "('1512020803430', '171130164643', '38.1')\n",
      "('1512020833437', '171130164713', '38.2')\n",
      "('1512020863449', '171130164743', '38.3')\n",
      "('1512020893461', '171130164813', '38.3')\n",
      "('1512020923479', '171130164843', '38.3')\n",
      "('1512020953485', '171130164913', '38.4')\n",
      "('1512020983511', '171130164943', '38.4')\n",
      "('1512021013521', '171130165013', '38.5')\n",
      "('1512021043537', '171130165043', '38.5')\n",
      "('1512021073546', '171130165113', '38.6')\n",
      "('1512021103563', '171130165143', '38.6')\n",
      "('1512021133571', '171130165213', '38.6')\n",
      "('1512021163577', '171130165243', '38.7')\n",
      "('1512021193589', '171130165313', '38.7')\n",
      "('1512021223605', '171130165343', '38.7')\n",
      "('1512021253613', '171130165413', '38.8')\n",
      "('1512021283628', '171130165443', '38.8')\n",
      "('1512021313635', '171130165513', '38.8')\n",
      "('1512021343652', '171130165543', '38.9')\n",
      "('1512021373659', '171130165613', '39')\n",
      "('1512021403671', '171130165643', '39')\n",
      "('1512021433688', '171130165713', '39.1')\n",
      "('1512021463706', '171130165743', '39.1')\n",
      "('1512021493713', '171130165813', '39.1')\n",
      "('1512021523733', '171130165843', '39.1')\n",
      "('1512021553743', '171130165913', '39.1')\n",
      "('1512021583759', '171130165943', '39.1')\n",
      "('1512021613766', '171130170013', '39.1')\n",
      "('1512021643789', '171130170043', '39.1')\n",
      "('1512021673800', '171130170113', '39.1')\n",
      "('1512021703822', '171130170143', '39.1')\n",
      "('1512021733828', '171130170213', '39.1')\n",
      "('1512021763844', '171130170243', '39')\n",
      "('1512021793850', '171130170313', '39')\n",
      "('1512021823867', '171130170343', '39')\n",
      "('1512021853873', '171130170413', '39')\n",
      "('1512021883890', '171130170443', '39')\n",
      "('1512021913896', '171130170513', '39')\n",
      "('1512021943907', '171130170543', '39.1')\n",
      "('1512021973922', '171130170613', '39.1')\n",
      "('1512022003931', '171130170643', '39.1')\n",
      "('1512022033939', '171130170713', '39.1')\n",
      "('1512022063957', '171130170743', '39.1')\n",
      "('1512022093964', '171130170813', '39.1')\n",
      "('1512022123978', '171130170843', '39.1')\n",
      "('1512022153984', '171130170913', '39.1')\n",
      "('1512022184001', '171130170944', '39.1')\n",
      "('1512022214008', '171130171014', '39.1')\n",
      "('1512022244019', '171130171044', '39.1')\n",
      "('1512022274027', '171130171114', '39.1')\n",
      "('1512022304042', '171130171144', '39.1')\n",
      "('1512022334050', '171130171214', '39.1')\n"
     ]
    },
    {
     "name": "stdout",
     "output_type": "stream",
     "text": [
      "('1512022364066', '171130171244', '39.1')\n",
      "('1512022394081', '171130171314', '39')\n",
      "('1512022424106', '171130171344', '39')\n",
      "('1512022454125', '171130171414', '39')\n",
      "('1512022484151', '171130171444', '39')\n",
      "('1512022514167', '171130171514', '38.9')\n",
      "('1512022544177', '171130171544', '38.8')\n",
      "('1512022574185', '171130171614', '38.8')\n",
      "('1512022604201', '171130171644', '38.7')\n",
      "('1512022634213', '171130171714', '38.7')\n",
      "('1512022664233', '171130171744', '38.7')\n",
      "('1512022694242', '171130171814', '38.7')\n",
      "('1512022724266', '171130171844', '38.7')\n",
      "('1512022754275', '171130171914', '38.6')\n",
      "('1512022784293', '171130171944', '38.6')\n",
      "('1512022814302', '171130172014', '38.6')\n"
     ]
    }
   ],
   "source": [
    "import sys \n",
    "import sqlite3\n",
    "\n",
    "conn = sqlite3.connect('sqliteCpu02')\n",
    "print \"Opened database successfully\";\n",
    "print \"\"\n",
    "print \"INSERT OPERATION\"\n",
    "print(\" Timestamp      | Local Time    | Temperature\")\n",
    "print(\"====================================================\")\n",
    "\n",
    "try:\n",
    "    import paho.mqtt.subscribe as subscribe\n",
    "except ImportError:\n",
    "    # This part is only required to run the example from within the examples\n",
    "    # directory when the module itself is not installed.\n",
    "    #\n",
    "    # If you have the module installed, just use \"import paho.mqtt.subscribe\"\n",
    "    import os\n",
    "    import inspect\n",
    "    cmd_subfolder = os.path.realpath(os.path.abspath(os.path.join(os.path.split(inspect.getfile( inspect.currentframe() ))[0],\"../src\")))\n",
    "    if cmd_subfolder not in sys.path:\n",
    "        sys.path.insert(0, cmd_subfolder)\n",
    "    import paho.mqtt.subscribe as subscribe\n",
    "    import paho.mqtt.client\n",
    "\n",
    "def print_msg(client, userdata, message):\n",
    "    #print(\"%s : %s\" % (message.topic, message.payload))\n",
    "    data = message.payload\n",
    "    # {\"data\":{\"time\":1511964507557,\"local\":171130010827,\"temp\":34.3}}\n",
    "    time = str((data[16:-33]).replace(',\"', ''))\n",
    "    local = str((data[38:-12]).replace(',\"', ''))\n",
    "    temp = str(data[58:-2])\n",
    "    print(time, local, temp)\n",
    "    \n",
    "    str1 = \"INSERT INTO HOME (TIME,LOCAL,TEMP) \\\n",
    "      VALUES (\"\n",
    "    str2 = time \n",
    "    str3 = \", \"\n",
    "    str4 = time\n",
    "    str5 = \", \"\n",
    "    str6 = temp\n",
    "    str7 = \" )\"\n",
    "    insert = str1 + str2 + str3 + str4 + str5 + str6 + str7\n",
    "    conn.execute(insert)\n",
    "    conn.commit()\n",
    "\n",
    "subscribe.callback(print_msg, \"laptopCpuTemp\", hostname=\"iot.eclipse.org\")"
   ]
  },
  {
   "cell_type": "markdown",
   "metadata": {},
   "source": [
    "# SELECT OPERATION"
   ]
  },
  {
   "cell_type": "code",
   "execution_count": 5,
   "metadata": {
    "scrolled": true
   },
   "outputs": [
    {
     "name": "stdout",
     "output_type": "stream",
     "text": [
      "Opened database successfully\n",
      "\n",
      " Timestamp    | Local Time  | Temperature\n",
      "====================================================\n",
      "(1512009540772, 1512009540772, 36.6)\n",
      "(1512009550783, 1512009550783, 36.6)\n",
      "(1512009560795, 1512009560795, 36.6)\n",
      "(1512009570810, 1512009570810, 36.6)\n",
      "(1512009580832, 1512009580832, 36.7)\n",
      "(1512009590839, 1512009590839, 36.7)\n",
      "(1512009600849, 1512009600849, 36.7)\n",
      "(1512009610861, 1512009610861, 36.7)\n",
      "(1512009620877, 1512009620877, 36.7)\n",
      "(1512009630889, 1512009630889, 36.7)\n",
      "(1512009640901, 1512009640901, 36.8)\n",
      "(1512009650910, 1512009650910, 36.8)\n",
      "(1512009660924, 1512009660924, 36.8)\n",
      "(1512009670933, 1512009670933, 36.8)\n",
      "(1512009680946, 1512009680946, 36.8)\n",
      "(1512009690956, 1512009690956, 36.8)\n",
      "(1512009700965, 1512009700965, 36.8)\n",
      "(1512009710976, 1512009710976, 36.9)\n"
     ]
    }
   ],
   "source": [
    "#!/usr/bin/python\n",
    "\n",
    "import sqlite3\n",
    "\n",
    "conn = sqlite3.connect('sqliteCpu02')\n",
    "print \"Opened database successfully\"\n",
    "print \"\"\n",
    "print(\" Timestamp    | Local Time  | Temperature\")\n",
    "print(\"====================================================\")\n",
    "cursor = conn.execute(\"SELECT * from HOME WHERE TEMP\")\n",
    "for row in cursor:\n",
    "    print(row[0],row[1],row[2])\n",
    "    \n",
    "conn.close()"
   ]
  },
  {
   "cell_type": "markdown",
   "metadata": {},
   "source": [
    "# Delete A TABLE"
   ]
  },
  {
   "cell_type": "code",
   "execution_count": 12,
   "metadata": {},
   "outputs": [
    {
     "name": "stdout",
     "output_type": "stream",
     "text": [
      "Deleted the table successfully\n"
     ]
    }
   ],
   "source": [
    "import sqlite3\n",
    "conn = sqlite3.connect('sqliteCpu02')\n",
    "cur = conn.cursor()\n",
    "sql = \"DROP TABLE HOME;\"\n",
    "cur.execute(sql)\n",
    "print \"Deleted the table successfully\"\n",
    "conn.commit()\n",
    "conn.close()"
   ]
  },
  {
   "cell_type": "code",
   "execution_count": null,
   "metadata": {
    "collapsed": true
   },
   "outputs": [],
   "source": [
    "# END"
   ]
  }
 ],
 "metadata": {
  "kernelspec": {
   "display_name": "Python 2",
   "language": "python",
   "name": "python2"
  },
  "language_info": {
   "codemirror_mode": {
    "name": "ipython",
    "version": 2
   },
   "file_extension": ".py",
   "mimetype": "text/x-python",
   "name": "python",
   "nbconvert_exporter": "python",
   "pygments_lexer": "ipython2",
   "version": "2.7.6"
  }
 },
 "nbformat": 4,
 "nbformat_minor": 2
}
