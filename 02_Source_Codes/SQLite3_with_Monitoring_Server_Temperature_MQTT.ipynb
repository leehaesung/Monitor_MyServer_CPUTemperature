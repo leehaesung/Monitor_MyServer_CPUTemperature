{
 "cells": [
  {
   "cell_type": "markdown",
   "metadata": {},
   "source": [
    "# Monitoring Server Temperature With SQLite3 in Real Time"
   ]
  },
  {
   "cell_type": "markdown",
   "metadata": {},
   "source": [
    "* How to install MQTT:\n",
    "\n",
    "```\n",
    "sudo pip install paho-mqtt\n",
    "```"
   ]
  },
  {
   "cell_type": "markdown",
   "metadata": {},
   "source": [
    "* How to search temperature data in Python"
   ]
  },
  {
   "cell_type": "code",
   "execution_count": 1,
   "metadata": {
    "scrolled": false
   },
   "outputs": [
    {
     "name": "stdout",
     "output_type": "stream",
     "text": [
      "Opened database successfully\n",
      "Timestamp   =  1512009540772\n",
      "Local Time  =  1512009540772\n",
      "Temperature =  36.6 \n",
      "\n",
      "Timestamp   =  1512009550783\n",
      "Local Time  =  1512009550783\n",
      "Temperature =  36.6 \n",
      "\n",
      "Timestamp   =  1512009560795\n",
      "Local Time  =  1512009560795\n",
      "Temperature =  36.6 \n",
      "\n",
      "Timestamp   =  1512009570810\n",
      "Local Time  =  1512009570810\n",
      "Temperature =  36.6 \n",
      "\n",
      "Operation done successfully\n"
     ]
    }
   ],
   "source": [
    "import sqlite3\n",
    "\n",
    "conn = sqlite3.connect('sqliteCpu02')\n",
    "print \"Opened database successfully\";\n",
    "\n",
    "cursor = conn.execute(\"SELECT * from HOME WHERE TEMP = 36.6\")\n",
    "for row in cursor:\n",
    "   print \"Timestamp   = \", row[0]\n",
    "   print \"Local Time  = \", row[1]\n",
    "   print \"Temperature = \", row[2], \"\\n\"\n",
    "   \n",
    "\n",
    "print \"Operation done successfully\";\n",
    "conn.close()"
   ]
  },
  {
   "cell_type": "code",
   "execution_count": 2,
   "metadata": {
    "scrolled": true
   },
   "outputs": [
    {
     "name": "stdout",
     "output_type": "stream",
     "text": [
      "Opened database successfully\n",
      "\n",
      " Timestamp    | Local Time  | Temperature\n",
      "====================================================\n",
      "(1512009540772, 1512009540772, 36.6)\n",
      "(1512009550783, 1512009550783, 36.6)\n",
      "(1512009560795, 1512009560795, 36.6)\n",
      "(1512009570810, 1512009570810, 36.6)\n"
     ]
    }
   ],
   "source": [
    "#!/usr/bin/python\n",
    "\n",
    "import sqlite3\n",
    "\n",
    "conn = sqlite3.connect('sqliteCpu02')\n",
    "print \"Opened database successfully\"\n",
    "print \"\"\n",
    "print(\" Timestamp    | Local Time  | Temperature\")\n",
    "print(\"====================================================\")\n",
    "cursor = conn.execute(\"SELECT * from HOME WHERE TEMP = 36.6\")\n",
    "for row in cursor:\n",
    "    print(row[0],row[1],row[2])\n",
    "    \n",
    "conn.close()"
   ]
  },
  {
   "cell_type": "code",
   "execution_count": 3,
   "metadata": {
    "collapsed": true
   },
   "outputs": [],
   "source": [
    "import sqlite3\n",
    "\n",
    "def search_temperature(temp):\n",
    "    conn = sqlite3.connect('sqliteCpu02')\n",
    "\n",
    "    str1 = \"SELECT * FROM HOME WHERE TEMP = \"\n",
    "    str2 = str(temp)\n",
    "    str3 = \";\"\n",
    "    sql = str1 + str2 + str3\n",
    "    cursor = conn.execute(sql)\n",
    "\n",
    "    print \"Opened database successfully\"\n",
    "    print \"\"\n",
    "    print(\" Timestamp    | Local Time  | Temperature\")\n",
    "    print(\"====================================================\")\n",
    "    \n",
    "    for row in cursor:\n",
    "        print(row[0],row[1],row[2])"
   ]
  },
  {
   "cell_type": "code",
   "execution_count": 4,
   "metadata": {
    "scrolled": true
   },
   "outputs": [
    {
     "name": "stdout",
     "output_type": "stream",
     "text": [
      "Opened database successfully\n",
      "\n",
      " Timestamp    | Local Time  | Temperature\n",
      "====================================================\n",
      "(1512009540772, 1512009540772, 36.6)\n",
      "(1512009550783, 1512009550783, 36.6)\n",
      "(1512009560795, 1512009560795, 36.6)\n",
      "(1512009570810, 1512009570810, 36.6)\n"
     ]
    }
   ],
   "source": [
    "# Put any temperature.\n",
    "search_temperature(36.6)"
   ]
  },
  {
   "cell_type": "markdown",
   "metadata": {},
   "source": [
    "# Eclipse Paho™ MQTT Python Pub/Sub Client"
   ]
  },
  {
   "cell_type": "code",
   "execution_count": 10,
   "metadata": {},
   "outputs": [
    {
     "name": "stdout",
     "output_type": "stream",
     "text": [
      "laptopCpuTemp\n",
      "{\"data\":{\"time\":1512009913048,\"local\":171130134513,\"temp\":37.5}}\n",
      "laptopCpuTemp\n",
      "{\"data\":{\"time\":1512009943055,\"local\":171130134543,\"temp\":37.6}}\n"
     ]
    }
   ],
   "source": [
    "import sys\n",
    "try:\n",
    "    import paho.mqtt.subscribe as subscribe\n",
    "except ImportError:\n",
    "    # This part is only required to run the example from within the examples\n",
    "    # directory when the module itself is not installed.\n",
    "    #\n",
    "    # If you have the module installed, just use \"import paho.mqtt.subscribe\"\n",
    "    import os\n",
    "    import inspect\n",
    "    cmd_subfolder = os.path.realpath(os.path.abspath(os.path.join(os.path.split(inspect.getfile( inspect.currentframe() ))[0],\"../src\")))\n",
    "    if cmd_subfolder not in sys.path:\n",
    "        sys.path.insert(0, cmd_subfolder)\n",
    "    import paho.mqtt.subscribe as subscribe\n",
    "    import paho.mqtt.client\n",
    "\n",
    "topics = ['laptopCpuTemp']\n",
    "\n",
    "m = subscribe.simple(topics, hostname=\"iot.eclipse.org\", retained=False, msg_count=2)\n",
    "for a in m:\n",
    "    print(a.topic)\n",
    "    print(a.payload)"
   ]
  },
  {
   "cell_type": "code",
   "execution_count": null,
   "metadata": {
    "scrolled": false
   },
   "outputs": [
    {
     "name": "stdout",
     "output_type": "stream",
     "text": [
      "laptopCpuTemp : {\"data\":{\"time\":1512009973069,\"local\":171130134613,\"temp\":37.6}}\n",
      "laptopCpuTemp : {\"data\":{\"time\":1512010003076,\"local\":171130134643,\"temp\":37.6}}\n",
      "laptopCpuTemp : {\"data\":{\"time\":1512010033092,\"local\":171130134713,\"temp\":37.5}}\n",
      "laptopCpuTemp : {\"data\":{\"time\":1512010063103,\"local\":171130134743,\"temp\":37.5}}\n",
      "laptopCpuTemp : {\"data\":{\"time\":1512010093119,\"local\":171130134813,\"temp\":37.4}}\n",
      "laptopCpuTemp : {\"data\":{\"time\":1512010123137,\"local\":171130134843,\"temp\":37.3}}\n"
     ]
    }
   ],
   "source": [
    "import sys\n",
    "try:\n",
    "    import paho.mqtt.subscribe as subscribe\n",
    "except ImportError:\n",
    "    # This part is only required to run the example from within the examples\n",
    "    # directory when the module itself is not installed.\n",
    "    #\n",
    "    # If you have the module installed, just use \"import paho.mqtt.subscribe\"\n",
    "    import os\n",
    "    import inspect\n",
    "    cmd_subfolder = os.path.realpath(os.path.abspath(os.path.join(os.path.split(inspect.getfile( inspect.currentframe() ))[0],\"../src\")))\n",
    "    if cmd_subfolder not in sys.path:\n",
    "        sys.path.insert(0, cmd_subfolder)\n",
    "    import paho.mqtt.subscribe as subscribe\n",
    "    import paho.mqtt.client\n",
    "\n",
    "def print_msg(client, userdata, message):\n",
    "    print(\"%s : %s\" % (message.topic, message.payload))\n",
    "    buf = message.payload\n",
    "    \n",
    "subscribe.callback(print_msg, \"laptopCpuTemp\", hostname=\"iot.eclipse.org\")"
   ]
  },
  {
   "cell_type": "markdown",
   "metadata": {},
   "source": [
    "## CREATE TABLE"
   ]
  },
  {
   "cell_type": "code",
   "execution_count": 13,
   "metadata": {
    "scrolled": true
   },
   "outputs": [
    {
     "name": "stdout",
     "output_type": "stream",
     "text": [
      "Table created successfully\n"
     ]
    }
   ],
   "source": [
    "import sqlite3\n",
    "\n",
    "conn = sqlite3.connect('sqliteCpu02')\n",
    "conn.execute('''CREATE TABLE HOME\n",
    "         (TIME INT PRIMARY KEY     NOT NULL,\n",
    "         LOCAL           INT    NOT NULL,\n",
    "         TEMP            INT     NOT NULL);''')\n",
    "print \"Table created successfully\";\n",
    "\n",
    "conn.close()"
   ]
  },
  {
   "cell_type": "markdown",
   "metadata": {},
   "source": [
    "## INSERT OPERATION FOR UNIT TESTING"
   ]
  },
  {
   "cell_type": "code",
   "execution_count": 10,
   "metadata": {},
   "outputs": [
    {
     "name": "stdout",
     "output_type": "stream",
     "text": [
      "Opened database successfully\n",
      "Records created successfully\n"
     ]
    }
   ],
   "source": [
    "import sqlite3\n",
    "\n",
    "conn = sqlite3.connect('sqliteCpu02')\n",
    "print \"Opened database successfully\";\n",
    "\n",
    "conn.execute(\"INSERT INTO HOME (TIME,LOCAL,TEMP) \\\n",
    "      VALUES (1511959596275, 171129234636, 35.7 )\");\n",
    "\n",
    "conn.commit()\n",
    "print \"Records created successfully\";\n",
    "conn.close()"
   ]
  },
  {
   "cell_type": "markdown",
   "metadata": {},
   "source": [
    "##  INSERT OPERATION"
   ]
  },
  {
   "cell_type": "code",
   "execution_count": null,
   "metadata": {
    "scrolled": true
   },
   "outputs": [
    {
     "name": "stdout",
     "output_type": "stream",
     "text": [
      "Opened database successfully\n",
      "\n",
      "INSERT OPERATION\n",
      " Timestamp      | Local Time    | Temperature\n",
      "====================================================\n",
      "('1512028276643', '171130185116', '35.4')\n",
      "('1512028306663', '171130185146', '35.4')\n",
      "('1512028336679', '171130185216', '35.4')\n",
      "('1512028366698', '171130185246', '35.4')\n",
      "('1512028396716', '171130185316', '35.4')\n",
      "('1512028426735', '171130185346', '35.4')\n",
      "('1512028456749', '171130185416', '35.4')\n",
      "('1512028486774', '171130185446', '35.3')\n",
      "('1512028516787', '171130185516', '35.3')\n",
      "('1512028546802', '171130185546', '35.2')\n",
      "('1512028576811', '171130185616', '35.2')\n",
      "('1512028606830', '171130185646', '35.1')\n"
     ]
    }
   ],
   "source": [
    "import sys \n",
    "import sqlite3\n",
    "\n",
    "conn = sqlite3.connect('sqliteCpu02')\n",
    "print \"Opened database successfully\";\n",
    "print \"\"\n",
    "print \"INSERT OPERATION\"\n",
    "print(\" Timestamp      | Local Time    | Temperature\")\n",
    "print(\"====================================================\")\n",
    "\n",
    "try:\n",
    "    import paho.mqtt.subscribe as subscribe\n",
    "except ImportError:\n",
    "    # This part is only required to run the example from within the examples\n",
    "    # directory when the module itself is not installed.\n",
    "    #\n",
    "    # If you have the module installed, just use \"import paho.mqtt.subscribe\"\n",
    "    import os\n",
    "    import inspect\n",
    "    cmd_subfolder = os.path.realpath(os.path.abspath(os.path.join(os.path.split(inspect.getfile( inspect.currentframe() ))[0],\"../src\")))\n",
    "    if cmd_subfolder not in sys.path:\n",
    "        sys.path.insert(0, cmd_subfolder)\n",
    "    import paho.mqtt.subscribe as subscribe\n",
    "    import paho.mqtt.client\n",
    "\n",
    "def print_msg(client, userdata, message):\n",
    "    #print(\"%s : %s\" % (message.topic, message.payload))\n",
    "    data = message.payload\n",
    "    # {\"data\":{\"time\":1511964507557,\"local\":171130010827,\"temp\":34.3}}\n",
    "    time = str((data[16:-33]).replace(',\"', ''))\n",
    "    local = str((data[38:-12]).replace(',\"', ''))\n",
    "    temp = str(data[58:-2])\n",
    "    print(time, local, temp)\n",
    "    \n",
    "    str1 = \"INSERT INTO HOME (TIME,LOCAL,TEMP) \\\n",
    "      VALUES (\"\n",
    "    str2 = time \n",
    "    str3 = \", \"\n",
    "    str4 = local\n",
    "    str5 = \", \"\n",
    "    str6 = temp\n",
    "    str7 = \" )\"\n",
    "    insert = str1 + str2 + str3 + str4 + str5 + str6 + str7\n",
    "    conn.execute(insert)\n",
    "    conn.commit()\n",
    "\n",
    "subscribe.callback(print_msg, \"laptopCpuTemp\", hostname=\"iot.eclipse.org\")"
   ]
  },
  {
   "cell_type": "markdown",
   "metadata": {},
   "source": [
    "# SELECT OPERATION"
   ]
  },
  {
   "cell_type": "code",
   "execution_count": 5,
   "metadata": {
    "scrolled": true
   },
   "outputs": [
    {
     "name": "stdout",
     "output_type": "stream",
     "text": [
      "Opened database successfully\n",
      "\n",
      " Timestamp    | Local Time  | Temperature\n",
      "====================================================\n",
      "(1512009540772, 1512009540772, 36.6)\n",
      "(1512009550783, 1512009550783, 36.6)\n",
      "(1512009560795, 1512009560795, 36.6)\n",
      "(1512009570810, 1512009570810, 36.6)\n",
      "(1512009580832, 1512009580832, 36.7)\n",
      "(1512009590839, 1512009590839, 36.7)\n",
      "(1512009600849, 1512009600849, 36.7)\n",
      "(1512009610861, 1512009610861, 36.7)\n",
      "(1512009620877, 1512009620877, 36.7)\n",
      "(1512009630889, 1512009630889, 36.7)\n",
      "(1512009640901, 1512009640901, 36.8)\n",
      "(1512009650910, 1512009650910, 36.8)\n",
      "(1512009660924, 1512009660924, 36.8)\n",
      "(1512009670933, 1512009670933, 36.8)\n",
      "(1512009680946, 1512009680946, 36.8)\n",
      "(1512009690956, 1512009690956, 36.8)\n",
      "(1512009700965, 1512009700965, 36.8)\n",
      "(1512009710976, 1512009710976, 36.9)\n"
     ]
    }
   ],
   "source": [
    "#!/usr/bin/python\n",
    "\n",
    "import sqlite3\n",
    "\n",
    "conn = sqlite3.connect('sqliteCpu02')\n",
    "print \"Opened database successfully\"\n",
    "print \"\"\n",
    "print(\" Timestamp    | Local Time  | Temperature\")\n",
    "print(\"====================================================\")\n",
    "cursor = conn.execute(\"SELECT * from HOME WHERE TEMP\")\n",
    "for row in cursor:\n",
    "    print(row[0],row[1],row[2])\n",
    "    \n",
    "conn.close()"
   ]
  },
  {
   "cell_type": "markdown",
   "metadata": {},
   "source": [
    "# Delete A TABLE"
   ]
  },
  {
   "cell_type": "code",
   "execution_count": 12,
   "metadata": {},
   "outputs": [
    {
     "name": "stdout",
     "output_type": "stream",
     "text": [
      "Deleted the table successfully\n"
     ]
    }
   ],
   "source": [
    "import sqlite3\n",
    "conn = sqlite3.connect('sqliteCpu02')\n",
    "cur = conn.cursor()\n",
    "sql = \"DROP TABLE HOME;\"\n",
    "cur.execute(sql)\n",
    "print \"Deleted the table successfully\"\n",
    "conn.commit()\n",
    "conn.close()"
   ]
  },
  {
   "cell_type": "code",
   "execution_count": null,
   "metadata": {
    "collapsed": true
   },
   "outputs": [],
   "source": [
    "# END"
   ]
  }
 ],
 "metadata": {
  "kernelspec": {
   "display_name": "Python 2",
   "language": "python",
   "name": "python2"
  },
  "language_info": {
   "codemirror_mode": {
    "name": "ipython",
    "version": 2
   },
   "file_extension": ".py",
   "mimetype": "text/x-python",
   "name": "python",
   "nbconvert_exporter": "python",
   "pygments_lexer": "ipython2",
   "version": "2.7.6"
  }
 },
 "nbformat": 4,
 "nbformat_minor": 2
}
