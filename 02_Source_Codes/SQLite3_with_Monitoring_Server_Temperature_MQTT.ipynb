{
 "cells": [
  {
   "cell_type": "markdown",
   "metadata": {},
   "source": [
    "# Monitoring Server's Temperature With SQLite3 in Real Time"
   ]
  },
  {
   "cell_type": "markdown",
   "metadata": {},
   "source": [
    "<img src=\"https://github.com/leehaesung/Monitor_MyServer_CPUTemperature/raw/master/01_Images/MonitoringCPUTemp.png\" height=\"400\" width=\"450\" >"
   ]
  },
  {
   "cell_type": "markdown",
   "metadata": {},
   "source": [
    "* How to install Paho-MQTT:\n",
    "\n",
    "    ```\n",
    "    sudo pip install paho-mqtt\n",
    "    ```"
   ]
  },
  {
   "cell_type": "markdown",
   "metadata": {},
   "source": [
    "## CREATE TABLE\n",
    "\n",
    "* SQLite <b>CREATE TABLE</b> statement is used to <b>create</b> a new table in any of the given database. Creating a basic table involves naming the table and defining its columns and each column's data type."
   ]
  },
  {
   "cell_type": "code",
   "execution_count": 3,
   "metadata": {},
   "outputs": [
    {
     "name": "stdout",
     "output_type": "stream",
     "text": [
      "Table created successfully\n"
     ]
    }
   ],
   "source": [
    "import sqlite3\n",
    "\n",
    "conn = sqlite3.connect('sqliteCpu02')\n",
    "conn.execute('''CREATE TABLE HOME\n",
    "         (TIME INT PRIMARY KEY     NOT NULL,\n",
    "         LOCAL           INT    NOT NULL,\n",
    "         TEMP            INT     NOT NULL);''')\n",
    "print \"Table created successfully\";\n",
    "\n",
    "conn.close()"
   ]
  },
  {
   "cell_type": "markdown",
   "metadata": {},
   "source": [
    "## INSERT QUERY FOR UNIT TESTING\n",
    "\n",
    "* SQLite <b>INSERT INTO</b> Statement is used to <b>add</b> new rows of data into a table in the database."
   ]
  },
  {
   "cell_type": "code",
   "execution_count": 4,
   "metadata": {},
   "outputs": [
    {
     "name": "stdout",
     "output_type": "stream",
     "text": [
      "Opened database successfully\n",
      "Records created successfully\n"
     ]
    }
   ],
   "source": [
    "import sqlite3\n",
    "\n",
    "conn = sqlite3.connect('sqliteCpu02')\n",
    "print \"Opened database successfully\";\n",
    "\n",
    "conn.execute(\"INSERT INTO HOME (TIME,LOCAL,TEMP) \\\n",
    "      VALUES (1511959596275, 171129234636, 35.7 )\");\n",
    "\n",
    "conn.commit()\n",
    "print \"Records created successfully\";\n",
    "conn.close()"
   ]
  },
  {
   "cell_type": "markdown",
   "metadata": {},
   "source": [
    "## SEARCH THE SPECIFIC TEMPERATURE DATA"
   ]
  },
  {
   "cell_type": "code",
   "execution_count": 1,
   "metadata": {
    "scrolled": false
   },
   "outputs": [
    {
     "name": "stdout",
     "output_type": "stream",
     "text": [
      "Opened database successfully\n",
      "Timestamp   =  1512038541428\n",
      "Local Time  =  171130214221\n",
      "Temperature =  36.7 \n",
      "\n",
      "Timestamp   =  1512038571443\n",
      "Local Time  =  171130214251\n",
      "Temperature =  36.7 \n",
      "\n",
      "Timestamp   =  1512038601456\n",
      "Local Time  =  171130214321\n",
      "Temperature =  36.7 \n",
      "\n",
      "Timestamp   =  1512038611113\n",
      "Local Time  =  171130214331\n",
      "Temperature =  36.7 \n",
      "\n",
      "Timestamp   =  1512038620961\n",
      "Local Time  =  171130214340\n",
      "Temperature =  36.7 \n",
      "\n",
      "Timestamp   =  1512038630974\n",
      "Local Time  =  171130214350\n",
      "Temperature =  36.7 \n",
      "\n",
      "Timestamp   =  1512038640992\n",
      "Local Time  =  171130214400\n",
      "Temperature =  36.7 \n",
      "\n",
      "Operation done successfully\n"
     ]
    }
   ],
   "source": [
    "import sqlite3\n",
    "\n",
    "conn = sqlite3.connect('sqliteCpu02')\n",
    "print \"Opened database successfully\";\n",
    "\n",
    "cursor = conn.execute(\"SELECT * from HOME WHERE TEMP = 36.7\")\n",
    "for row in cursor:\n",
    "   print \"Timestamp   = \", row[0]\n",
    "   print \"Local Time  = \", row[1]\n",
    "   print \"Temperature = \", row[2], \"\\n\"\n",
    "   \n",
    "\n",
    "print \"Operation done successfully\";\n",
    "conn.close()"
   ]
  },
  {
   "cell_type": "code",
   "execution_count": 2,
   "metadata": {
    "scrolled": true
   },
   "outputs": [
    {
     "name": "stdout",
     "output_type": "stream",
     "text": [
      "Opened database successfully\n",
      "\n",
      " Timestamp    | Local Time  | Temperature\n",
      "====================================================\n",
      "(1512038541428, 171130214221, 36.7)\n",
      "(1512038571443, 171130214251, 36.7)\n",
      "(1512038601456, 171130214321, 36.7)\n",
      "(1512038611113, 171130214331, 36.7)\n",
      "(1512038620961, 171130214340, 36.7)\n",
      "(1512038630974, 171130214350, 36.7)\n",
      "(1512038640992, 171130214400, 36.7)\n"
     ]
    }
   ],
   "source": [
    "#!/usr/bin/python\n",
    "\n",
    "import sqlite3\n",
    "\n",
    "conn = sqlite3.connect('sqliteCpu02')\n",
    "print \"Opened database successfully\"\n",
    "print \"\"\n",
    "print(\" Timestamp    | Local Time  | Temperature\")\n",
    "print(\"====================================================\")\n",
    "cursor = conn.execute(\"SELECT * from HOME WHERE TEMP = 36.7\")\n",
    "for row in cursor:\n",
    "    print(row[0],row[1],row[2])\n",
    "    \n",
    "conn.close()"
   ]
  },
  {
   "cell_type": "code",
   "execution_count": 3,
   "metadata": {
    "collapsed": true
   },
   "outputs": [],
   "source": [
    "import sqlite3\n",
    "\n",
    "def search_temperature(temp):\n",
    "    conn = sqlite3.connect('sqliteCpu02')\n",
    "\n",
    "    str1 = \"SELECT * FROM HOME WHERE TEMP = \"\n",
    "    str2 = str(temp)\n",
    "    str3 = \";\"\n",
    "    sql = str1 + str2 + str3\n",
    "    cursor = conn.execute(sql)\n",
    "\n",
    "    print \"Opened database successfully\"\n",
    "    print \"\"\n",
    "    print(\" Timestamp    | Local Time  | Temperature\")\n",
    "    print(\"====================================================\")\n",
    "    \n",
    "    for row in cursor:\n",
    "        print(row[0],row[1],row[2])"
   ]
  },
  {
   "cell_type": "code",
   "execution_count": 4,
   "metadata": {
    "scrolled": true
   },
   "outputs": [
    {
     "name": "stdout",
     "output_type": "stream",
     "text": [
      "Opened database successfully\n",
      "\n",
      " Timestamp    | Local Time  | Temperature\n",
      "====================================================\n",
      "(1512038541428, 171130214221, 36.7)\n",
      "(1512038571443, 171130214251, 36.7)\n",
      "(1512038601456, 171130214321, 36.7)\n",
      "(1512038611113, 171130214331, 36.7)\n",
      "(1512038620961, 171130214340, 36.7)\n",
      "(1512038630974, 171130214350, 36.7)\n",
      "(1512038640992, 171130214400, 36.7)\n"
     ]
    }
   ],
   "source": [
    "# Put any temperature.\n",
    "search_temperature(36.7)"
   ]
  },
  {
   "cell_type": "markdown",
   "metadata": {},
   "source": [
    "# Eclipse Paho™ MQTT Python Pub/Sub Client"
   ]
  },
  {
   "cell_type": "code",
   "execution_count": 10,
   "metadata": {},
   "outputs": [
    {
     "name": "stdout",
     "output_type": "stream",
     "text": [
      "laptopCpuTemp\n",
      "{\"data\":{\"time\":1512009913048,\"local\":171130134513,\"temp\":37.5}}\n",
      "laptopCpuTemp\n",
      "{\"data\":{\"time\":1512009943055,\"local\":171130134543,\"temp\":37.6}}\n"
     ]
    }
   ],
   "source": [
    "import sys\n",
    "try:\n",
    "    import paho.mqtt.subscribe as subscribe\n",
    "except ImportError:\n",
    "    # This part is only required to run the example from within the examples\n",
    "    # directory when the module itself is not installed.\n",
    "    #\n",
    "    # If you have the module installed, just use \"import paho.mqtt.subscribe\"\n",
    "    import os\n",
    "    import inspect\n",
    "    cmd_subfolder = os.path.realpath(os.path.abspath(os.path.join(os.path.split(inspect.getfile( inspect.currentframe() ))[0],\"../src\")))\n",
    "    if cmd_subfolder not in sys.path:\n",
    "        sys.path.insert(0, cmd_subfolder)\n",
    "    import paho.mqtt.subscribe as subscribe\n",
    "    import paho.mqtt.client\n",
    "\n",
    "topics = ['laptopCpuTemp']\n",
    "\n",
    "m = subscribe.simple(topics, hostname=\"iot.eclipse.org\", retained=False, msg_count=2)\n",
    "for a in m:\n",
    "    print(a.topic)\n",
    "    print(a.payload)"
   ]
  },
  {
   "cell_type": "code",
   "execution_count": null,
   "metadata": {
    "scrolled": false
   },
   "outputs": [
    {
     "name": "stdout",
     "output_type": "stream",
     "text": [
      "laptopCpuTemp : {\"data\":{\"time\":1512009973069,\"local\":171130134613,\"temp\":37.6}}\n",
      "laptopCpuTemp : {\"data\":{\"time\":1512010003076,\"local\":171130134643,\"temp\":37.6}}\n",
      "laptopCpuTemp : {\"data\":{\"time\":1512010033092,\"local\":171130134713,\"temp\":37.5}}\n",
      "laptopCpuTemp : {\"data\":{\"time\":1512010063103,\"local\":171130134743,\"temp\":37.5}}\n",
      "laptopCpuTemp : {\"data\":{\"time\":1512010093119,\"local\":171130134813,\"temp\":37.4}}\n",
      "laptopCpuTemp : {\"data\":{\"time\":1512010123137,\"local\":171130134843,\"temp\":37.3}}\n"
     ]
    }
   ],
   "source": [
    "import sys\n",
    "try:\n",
    "    import paho.mqtt.subscribe as subscribe\n",
    "except ImportError:\n",
    "    # This part is only required to run the example from within the examples\n",
    "    # directory when the module itself is not installed.\n",
    "    #\n",
    "    # If you have the module installed, just use \"import paho.mqtt.subscribe\"\n",
    "    import os\n",
    "    import inspect\n",
    "    cmd_subfolder = os.path.realpath(os.path.abspath(os.path.join(os.path.split(inspect.getfile( inspect.currentframe() ))[0],\"../src\")))\n",
    "    if cmd_subfolder not in sys.path:\n",
    "        sys.path.insert(0, cmd_subfolder)\n",
    "    import paho.mqtt.subscribe as subscribe\n",
    "    import paho.mqtt.client\n",
    "\n",
    "def print_msg(client, userdata, message):\n",
    "    print(\"%s : %s\" % (message.topic, message.payload))\n",
    "    buf = message.payload\n",
    "    \n",
    "subscribe.callback(print_msg, \"laptopCpuTemp\", hostname=\"iot.eclipse.org\")"
   ]
  },
  {
   "cell_type": "markdown",
   "metadata": {},
   "source": [
    "##  INSERT QUERY IN REAL TIME\n",
    "\n",
    "* SQLite <b>INSERT INTO</b> Statement is used to <b>add</b> new rows of data into a table in the database."
   ]
  },
  {
   "cell_type": "code",
   "execution_count": null,
   "metadata": {
    "scrolled": false
   },
   "outputs": [
    {
     "name": "stdout",
     "output_type": "stream",
     "text": [
      "Opened database successfully\n",
      "\n",
      "INSERT OPERATION\n",
      " Timestamp      | Local Time    | Temperature\n",
      "====================================================\n",
      "('1512197057875', '171202174417', '34.6')\n",
      "('1512197087883', '171202174447', '34.7')\n",
      "('1512197117891', '171202174517', '34.7')\n",
      "('1512197147902', '171202174547', '34.8')\n",
      "('1512197177910', '171202174617', '34.8')\n",
      "('1512197207919', '171202174647', '34.9')\n",
      "('1512197237930', '171202174717', '34.8')\n",
      "('1512197267946', '171202174747', '34.8')\n",
      "('1512197297959', '171202174817', '34.7')\n",
      "('1512197327968', '171202174847', '34.6')\n",
      "('1512197357981', '171202174917', '34.5')\n",
      "('1512197387988', '171202174947', '34.5')\n",
      "('1512197417997', '171202175017', '34.5')\n",
      "('1512197448005', '171202175048', '34.5')\n",
      "('1512197478014', '171202175118', '34.4')\n",
      "('1512197508022', '171202175148', '34.5')\n",
      "('1512197538029', '171202175218', '34.5')\n",
      "('1512197568037', '171202175248', '34.5')\n",
      "('1512197598047', '171202175318', '34.6')\n",
      "('1512197628057', '171202175348', '34.6')\n",
      "('1512197658076', '171202175418', '34.6')\n",
      "('1512197688095', '171202175448', '34.7')\n",
      "('1512197718108', '171202175518', '34.7')\n",
      "('1512197748123', '171202175548', '34.8')\n",
      "('1512197778130', '171202175618', '35')\n",
      "('1512197808139', '171202175648', '35.1')\n",
      "('1512197838146', '171202175718', '35.1')\n",
      "('1512197868163', '171202175748', '35.2')\n",
      "('1512197898170', '171202175818', '35.2')\n",
      "('1512197928177', '171202175848', '35.3')\n",
      "('1512197958184', '171202175918', '35.4')\n",
      "('1512197988191', '171202175948', '35.5')\n",
      "('1512198018200', '171202180018', '35.5')\n",
      "('1512198048213', '171202180048', '35.5')\n",
      "('1512198078236', '171202180118', '35.6')\n",
      "('1512198108246', '171202180148', '35.7')\n"
     ]
    }
   ],
   "source": [
    "import sys \n",
    "import sqlite3\n",
    "\n",
    "conn = sqlite3.connect('sqliteCpu02')\n",
    "print \"Opened database successfully\";\n",
    "print \"\"\n",
    "print \"INSERT OPERATION\"\n",
    "print(\" Timestamp      | Local Time    | Temperature\")\n",
    "print(\"====================================================\")\n",
    "\n",
    "try:\n",
    "    import paho.mqtt.subscribe as subscribe\n",
    "except ImportError:\n",
    "    # This part is only required to run the example from within the examples\n",
    "    # directory when the module itself is not installed.\n",
    "    #\n",
    "    # If you have the module installed, just use \"import paho.mqtt.subscribe\"\n",
    "    import os\n",
    "    import inspect\n",
    "    cmd_subfolder = os.path.realpath(os.path.abspath(os.path.join(os.path.split(inspect.getfile( inspect.currentframe() ))[0],\"../src\")))\n",
    "    if cmd_subfolder not in sys.path:\n",
    "        sys.path.insert(0, cmd_subfolder)\n",
    "    import paho.mqtt.subscribe as subscribe\n",
    "    import paho.mqtt.client\n",
    "\n",
    "def print_msg(client, userdata, message):\n",
    "    #print(\"%s : %s\" % (message.topic, message.payload))\n",
    "    data = message.payload\n",
    "    # {\"data\":{\"time\":1511964507557,\"local\":171130010827,\"temp\":34.3}}\n",
    "    time = str((data[16:-33]).replace(',\"', ''))\n",
    "    local = str((data[38:-12]).replace(',\"', ''))\n",
    "    temp = str(data[58:-2])\n",
    "    print(time, local, temp)\n",
    "    \n",
    "    str1 = \"INSERT INTO HOME (TIME,LOCAL,TEMP) \\\n",
    "      VALUES (\"\n",
    "    str2 = time \n",
    "    str3 = \", \"\n",
    "    str4 = local\n",
    "    str5 = \", \"\n",
    "    str6 = temp\n",
    "    str7 = \" )\"\n",
    "    insert = str1 + str2 + str3 + str4 + str5 + str6 + str7\n",
    "    conn.execute(insert)\n",
    "    conn.commit()\n",
    "\n",
    "subscribe.callback(print_msg, \"laptopCpuTemp\", hostname=\"iot.eclipse.org\")"
   ]
  },
  {
   "cell_type": "markdown",
   "metadata": {},
   "source": [
    "## SELECT QUERY\n",
    "\n",
    "* SQLite <b>SELECT</b> statement is used to <b>fetch</b> the data from a SQLite database table which returns data in the form of a result table. These result tables are also called result sets."
   ]
  },
  {
   "cell_type": "code",
   "execution_count": 10,
   "metadata": {
    "scrolled": true
   },
   "outputs": [
    {
     "name": "stdout",
     "output_type": "stream",
     "text": [
      "Opened database successfully\n",
      "\n",
      " Timestamp    | Local Time  | Temperature\n",
      "====================================================\n",
      "(1511959596275, 171129234636, 35.7)\n",
      "(1512038421376, 171130214021, 36.9)\n",
      "(1512038451388, 171130214051, 36.8)\n",
      "(1512038481404, 171130214121, 36.8)\n",
      "(1512038511410, 171130214151, 36.8)\n",
      "(1512038541428, 171130214221, 36.7)\n",
      "(1512038571443, 171130214251, 36.7)\n",
      "(1512038601456, 171130214321, 36.7)\n",
      "(1512038611113, 171130214331, 36.7)\n",
      "(1512038620961, 171130214340, 36.7)\n",
      "(1512038630974, 171130214350, 36.7)\n",
      "(1512038640992, 171130214400, 36.7)\n",
      "(1512038651003, 171130214411, 36.6)\n",
      "(1512038661017, 171130214421, 36.6)\n",
      "(1512038671023, 171130214431, 36.6)\n",
      "(1512038681034, 171130214441, 36.6)\n",
      "(1512038691044, 171130214451, 36.6)\n",
      "(1512038701063, 171130214501, 36.6)\n",
      "(1512038711069, 171130214511, 36.6)\n",
      "(1512038721077, 171130214521, 36.6)\n",
      "(1512038731083, 171130214531, 36.6)\n",
      "(1512038741094, 171130214541, 36.6)\n",
      "(1512038751104, 171130214551, 36.6)\n",
      "(1512038761116, 171130214601, 36.5)\n",
      "(1512038771131, 171130214611, 36.5)\n",
      "(1512038781149, 171130214621, 36.5)\n",
      "(1512038791158, 171130214631, 36.5)\n",
      "(1512038801170, 171130214641, 36.5)\n",
      "(1512038811175, 171130214651, 36.4)\n",
      "(1512038821191, 171130214701, 36.4)\n",
      "(1512038831196, 171130214711, 36.4)\n",
      "(1512038841210, 171130214721, 36.4)\n",
      "(1512038851217, 171130214731, 36.3)\n",
      "(1512038861227, 171130214741, 36.3)\n",
      "(1512038871233, 171130214751, 36.3)\n",
      "(1512038881254, 171130214801, 36.3)\n",
      "(1512038891260, 171130214811, 36.3)\n",
      "(1512038901271, 171130214821, 36.2)\n",
      "(1512038911277, 171130214831, 36.2)\n",
      "(1512038921283, 171130214841, 36.2)\n",
      "(1512038931291, 171130214851, 36.2)\n",
      "(1512038941301, 171130214901, 36.2)\n",
      "(1512197057875, 171202174417, 34.6)\n",
      "(1512197087883, 171202174447, 34.7)\n",
      "(1512197117891, 171202174517, 34.7)\n",
      "(1512197147902, 171202174547, 34.8)\n",
      "(1512197177910, 171202174617, 34.8)\n",
      "(1512197207919, 171202174647, 34.9)\n",
      "(1512197237930, 171202174717, 34.8)\n",
      "(1512197267946, 171202174747, 34.8)\n",
      "(1512197297959, 171202174817, 34.7)\n",
      "(1512197327968, 171202174847, 34.6)\n",
      "(1512197357981, 171202174917, 34.5)\n",
      "(1512197387988, 171202174947, 34.5)\n",
      "(1512197417997, 171202175017, 34.5)\n",
      "(1512197448005, 171202175048, 34.5)\n",
      "(1512197478014, 171202175118, 34.4)\n",
      "(1512197508022, 171202175148, 34.5)\n",
      "(1512197538029, 171202175218, 34.5)\n",
      "(1512197568037, 171202175248, 34.5)\n",
      "(1512197598047, 171202175318, 34.6)\n",
      "(1512197628057, 171202175348, 34.6)\n",
      "(1512197658076, 171202175418, 34.6)\n",
      "(1512197688095, 171202175448, 34.7)\n",
      "(1512197718108, 171202175518, 34.7)\n",
      "(1512197748123, 171202175548, 34.8)\n",
      "(1512197778130, 171202175618, 35)\n",
      "(1512197808139, 171202175648, 35.1)\n",
      "(1512197838146, 171202175718, 35.1)\n",
      "(1512197868163, 171202175748, 35.2)\n",
      "(1512197898170, 171202175818, 35.2)\n",
      "(1512197928177, 171202175848, 35.3)\n",
      "(1512197958184, 171202175918, 35.4)\n",
      "(1512197988191, 171202175948, 35.5)\n",
      "(1512198018200, 171202180018, 35.5)\n"
     ]
    }
   ],
   "source": [
    "#!/usr/bin/python\n",
    "\n",
    "import sqlite3\n",
    "\n",
    "conn = sqlite3.connect('sqliteCpu02')\n",
    "print \"Opened database successfully\"\n",
    "print \"\"\n",
    "print(\" Timestamp    | Local Time  | Temperature\")\n",
    "print(\"====================================================\")\n",
    "cursor = conn.execute(\"SELECT * from HOME WHERE TEMP;\")\n",
    "for row in cursor:\n",
    "    print(row[0],row[1],row[2])\n",
    "    \n",
    "conn.close()"
   ]
  },
  {
   "cell_type": "markdown",
   "metadata": {},
   "source": [
    "## DELETE QUERY\n",
    "\n",
    "* SQLite <b>DELETE QUERY</b> is used to <b>delete</b> the existing records from a table. You can use WHERE clause with <b>DELETE QUERY</b> to <b>delete</b> the selected rows, otherwise all the records would be deleted."
   ]
  },
  {
   "cell_type": "code",
   "execution_count": 19,
   "metadata": {
    "scrolled": true
   },
   "outputs": [
    {
     "name": "stdout",
     "output_type": "stream",
     "text": [
      "Opened database successfully\n",
      "Total number of rows deleted : 0\n",
      "\n",
      " Timestamp    | Local Time  | Temperature\n",
      "====================================================\n",
      "(1511959596275, 171129234636, 35.7)\n",
      "(1512038421376, 171130214021, 36.9)\n",
      "(1512038451388, 171130214051, 36.8)\n",
      "(1512038481404, 171130214121, 36.8)\n",
      "(1512038511410, 171130214151, 36.8)\n",
      "(1512038541428, 171130214221, 36.7)\n",
      "(1512038571443, 171130214251, 36.7)\n",
      "(1512038601456, 171130214321, 36.7)\n",
      "(1512038611113, 171130214331, 36.7)\n",
      "(1512038620961, 171130214340, 36.7)\n",
      "(1512038630974, 171130214350, 36.7)\n",
      "(1512038640992, 171130214400, 36.7)\n",
      "(1512038651003, 171130214411, 36.6)\n",
      "(1512038661017, 171130214421, 36.6)\n",
      "(1512038671023, 171130214431, 36.6)\n",
      "(1512038681034, 171130214441, 36.6)\n",
      "(1512038691044, 171130214451, 36.6)\n",
      "(1512038701063, 171130214501, 36.6)\n",
      "(1512038711069, 171130214511, 36.6)\n",
      "(1512038721077, 171130214521, 36.6)\n",
      "(1512038731083, 171130214531, 36.6)\n",
      "(1512038741094, 171130214541, 36.6)\n",
      "(1512038751104, 171130214551, 36.6)\n",
      "(1512038761116, 171130214601, 36.5)\n",
      "(1512038771131, 171130214611, 36.5)\n",
      "(1512038781149, 171130214621, 36.5)\n",
      "(1512038791158, 171130214631, 36.5)\n",
      "(1512038801170, 171130214641, 36.5)\n",
      "(1512038811175, 171130214651, 36.4)\n",
      "(1512038821191, 171130214701, 36.4)\n",
      "(1512038831196, 171130214711, 36.4)\n",
      "(1512038841210, 171130214721, 36.4)\n",
      "(1512038851217, 171130214731, 36.3)\n",
      "(1512038861227, 171130214741, 36.3)\n",
      "(1512038871233, 171130214751, 36.3)\n",
      "(1512038881254, 171130214801, 36.3)\n",
      "(1512038891260, 171130214811, 36.3)\n",
      "(1512038901271, 171130214821, 36.2)\n",
      "(1512038911277, 171130214831, 36.2)\n",
      "(1512038921283, 171130214841, 36.2)\n",
      "(1512038931291, 171130214851, 36.2)\n",
      "(1512038941301, 171130214901, 36.2)\n",
      "(1512197057875, 171202174417, 34.6)\n",
      "(1512197087883, 171202174447, 34.7)\n",
      "(1512197117891, 171202174517, 34.7)\n",
      "(1512197147902, 171202174547, 34.8)\n",
      "(1512197177910, 171202174617, 34.8)\n",
      "(1512197207919, 171202174647, 34.9)\n",
      "(1512197237930, 171202174717, 34.8)\n",
      "(1512197267946, 171202174747, 34.8)\n",
      "(1512197297959, 171202174817, 34.7)\n",
      "(1512197327968, 171202174847, 34.6)\n",
      "(1512197357981, 171202174917, 34.5)\n",
      "(1512197387988, 171202174947, 34.5)\n",
      "(1512197417997, 171202175017, 34.5)\n",
      "(1512197448005, 171202175048, 34.5)\n",
      "(1512197478014, 171202175118, 34.4)\n",
      "(1512197508022, 171202175148, 34.5)\n",
      "(1512197538029, 171202175218, 34.5)\n",
      "(1512197568037, 171202175248, 34.5)\n",
      "(1512197598047, 171202175318, 34.6)\n",
      "(1512197628057, 171202175348, 34.6)\n",
      "(1512197658076, 171202175418, 34.6)\n",
      "(1512197688095, 171202175448, 34.7)\n",
      "(1512197718108, 171202175518, 34.7)\n",
      "(1512197748123, 171202175548, 34.8)\n",
      "(1512197778130, 171202175618, 35)\n",
      "(1512197808139, 171202175648, 35.1)\n",
      "(1512197838146, 171202175718, 35.1)\n",
      "(1512197868163, 171202175748, 35.2)\n",
      "(1512197898170, 171202175818, 35.2)\n",
      "(1512197928177, 171202175848, 35.3)\n",
      "(1512197958184, 171202175918, 35.4)\n",
      "(1512197988191, 171202175948, 35.5)\n",
      "(1512198018200, 171202180018, 35.5)\n",
      "Operation done successfully\n"
     ]
    }
   ],
   "source": [
    "import sqlite3\n",
    "\n",
    "conn = sqlite3.connect('sqliteCpu02')\n",
    "print \"Opened database successfully\";\n",
    "\n",
    "conn.execute(\"DELETE from HOME where LOCAL = 171202175948;\")\n",
    "conn.commit()\n",
    "print \"Total number of rows deleted :\", conn.total_changes\n",
    "\n",
    "print \"\"\n",
    "print(\" Timestamp    | Local Time  | Temperature\")\n",
    "print(\"====================================================\")\n",
    "cursor = conn.execute(\"SELECT * from HOME\")\n",
    "for row in cursor:\n",
    "    print(row[0],row[1],row[2])\n",
    "\n",
    "print \"Operation done successfully\";\n",
    "conn.close()"
   ]
  },
  {
   "cell_type": "markdown",
   "metadata": {},
   "source": [
    "# DROP TABLE\n",
    "\n",
    "* SQLite <b>DROP TABLE</b> statement is used to <b>remove</b> a table definition and all associated data, indexes, triggers, constraints, and permission specifications for that table."
   ]
  },
  {
   "cell_type": "code",
   "execution_count": 2,
   "metadata": {},
   "outputs": [
    {
     "name": "stdout",
     "output_type": "stream",
     "text": [
      "Deleted the table successfully\n"
     ]
    }
   ],
   "source": [
    "import sqlite3\n",
    "conn = sqlite3.connect('sqliteCpu02')\n",
    "cur = conn.cursor()\n",
    "sql = \"DROP TABLE HOME;\"\n",
    "cur.execute(sql)\n",
    "print \"Removed the table successfully\"\n",
    "conn.commit()\n",
    "conn.close()"
   ]
  },
  {
   "cell_type": "markdown",
   "metadata": {},
   "source": [
    "# REFERENCES"
   ]
  },
  {
   "cell_type": "markdown",
   "metadata": {},
   "source": [
    "* SQLite Tutorial: https://www.tutorialspoint.com/sqlite/\n",
    "* SQLite Quick Guide: https://www.tutorialspoint.com/sqlite/sqlite_quick_guide.htm\n",
    "* SQLite - Python Tuotorial: https://www.tutorialspoint.com/sqlite/sqlite_python.htm\n",
    "* SQLite - Python Quick Guide: https://github.com/leehaesung/SQLite-Python_Quick_Guide"
   ]
  }
 ],
 "metadata": {
  "kernelspec": {
   "display_name": "Python 2",
   "language": "python",
   "name": "python2"
  },
  "language_info": {
   "codemirror_mode": {
    "name": "ipython",
    "version": 2
   },
   "file_extension": ".py",
   "mimetype": "text/x-python",
   "name": "python",
   "nbconvert_exporter": "python",
   "pygments_lexer": "ipython2",
   "version": "2.7.6"
  }
 },
 "nbformat": 4,
 "nbformat_minor": 2
}
