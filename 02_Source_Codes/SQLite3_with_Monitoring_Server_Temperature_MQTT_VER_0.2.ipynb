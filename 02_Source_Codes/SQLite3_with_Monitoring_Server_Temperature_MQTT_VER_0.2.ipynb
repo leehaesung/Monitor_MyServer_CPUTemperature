{
 "cells": [
  {
   "cell_type": "markdown",
   "metadata": {},
   "source": [
    "# Monitoring Server's Temperature With SQLite3 in Real Time"
   ]
  },
  {
   "cell_type": "markdown",
   "metadata": {},
   "source": [
    "<img src=\"https://github.com/leehaesung/Monitor_MyServer_CPUTemperature/blob/master/01_Images/TensorFlowAnalyticsSeverCPUTemp.png?raw=true\" height=\"400\" width=\"450\" >\n",
    "<img src=\"https://github.com/leehaesung/Monitor_MyServer_CPUTemperature/raw/master/01_Images/Linear_Regression_Model.png?raw=true\" height=\"300\" width=\"350\" >"
   ]
  },
  {
   "cell_type": "markdown",
   "metadata": {},
   "source": [
    "* How to install Paho-MQTT:\n",
    "\n",
    "    ```\n",
    "    sudo pip install paho-mqtt\n",
    "    ```"
   ]
  },
  {
   "cell_type": "markdown",
   "metadata": {},
   "source": [
    "## CREATE TABLE\n",
    "\n",
    "* SQLite <b>CREATE TABLE</b> statement is used to <b>create</b> a new table in any of the given database. Creating a basic table involves naming the table and defining its columns and each column's data type."
   ]
  },
  {
   "cell_type": "code",
   "execution_count": 1,
   "metadata": {},
   "outputs": [
    {
     "name": "stdout",
     "output_type": "stream",
     "text": [
      "Table created successfully\n"
     ]
    }
   ],
   "source": [
    "import sqlite3\n",
    "\n",
    "conn = sqlite3.connect('sqliteCpu02')\n",
    "conn.execute('''CREATE TABLE HOME\n",
    "         (TIME INT PRIMARY KEY     NOT NULL,\n",
    "         LOCAL           INT    NOT NULL,\n",
    "         TEMP            INT     NOT NULL);''')\n",
    "print \"Table created successfully\";\n",
    "\n",
    "conn.close()"
   ]
  },
  {
   "cell_type": "markdown",
   "metadata": {},
   "source": [
    "## INSERT QUERY FOR UNIT TESTING\n",
    "\n",
    "* SQLite <b>INSERT INTO</b> Statement is used to <b>add</b> new rows of data into a table in the database."
   ]
  },
  {
   "cell_type": "code",
   "execution_count": 15,
   "metadata": {},
   "outputs": [
    {
     "name": "stdout",
     "output_type": "stream",
     "text": [
      "Opened database successfully\n",
      "Records created successfully\n"
     ]
    }
   ],
   "source": [
    "import sqlite3\n",
    "\n",
    "conn = sqlite3.connect('sqliteCpu02')\n",
    "print \"Opened database successfully\";\n",
    "\n",
    "# ('1512212772527', '171202220612', '36.4')\n",
    "conn.execute(\"INSERT INTO HOME (TIME,LOCAL,TEMP) \\\n",
    "      VALUES (1512212772527, 171202220612, 36.4 )\");\n",
    "\n",
    "conn.commit()\n",
    "print \"Records created successfully\";\n",
    "conn.close()"
   ]
  },
  {
   "cell_type": "markdown",
   "metadata": {},
   "source": [
    "## SEARCH THE SPECIFIC TEMPERATURE DATA"
   ]
  },
  {
   "cell_type": "code",
   "execution_count": 2,
   "metadata": {
    "scrolled": false
   },
   "outputs": [
    {
     "name": "stdout",
     "output_type": "stream",
     "text": [
      "Opened database successfully\n",
      "Timestamp   =  1512212772527\n",
      "Local Time  =  171202220612\n",
      "Temperature =  36.4 \n",
      "\n",
      "Timestamp   =  1512212802540\n",
      "Local Time  =  171202220642\n",
      "Temperature =  36.4 \n",
      "\n",
      "Timestamp   =  1512212832556\n",
      "Local Time  =  171202220712\n",
      "Temperature =  36.4 \n",
      "\n",
      "Timestamp   =  1512212862572\n",
      "Local Time  =  171202220742\n",
      "Temperature =  36.4 \n",
      "\n",
      "Timestamp   =  1512212892586\n",
      "Local Time  =  171202220812\n",
      "Temperature =  36.4 \n",
      "\n",
      "Timestamp   =  1512212922599\n",
      "Local Time  =  171202220842\n",
      "Temperature =  36.4 \n",
      "\n",
      "Operation done successfully\n"
     ]
    }
   ],
   "source": [
    "import sqlite3\n",
    "\n",
    "conn = sqlite3.connect('sqliteCpu02')\n",
    "print \"Opened database successfully\";\n",
    "\n",
    "cursor = conn.execute(\"SELECT * from HOME WHERE TEMP = 36.4\")\n",
    "for row in cursor:\n",
    "   print \"Timestamp   = \", row[0]\n",
    "   print \"Local Time  = \", row[1]\n",
    "   print \"Temperature = \", row[2], \"\\n\"\n",
    "   \n",
    "\n",
    "print \"Operation done successfully\";\n",
    "conn.close()"
   ]
  },
  {
   "cell_type": "code",
   "execution_count": 3,
   "metadata": {
    "scrolled": true
   },
   "outputs": [
    {
     "name": "stdout",
     "output_type": "stream",
     "text": [
      "Opened database successfully\n",
      "\n",
      " Timestamp    | Local Time  | Temperature\n",
      "====================================================\n",
      "(1512212772527, 171202220612, 36.4)\n",
      "(1512212802540, 171202220642, 36.4)\n",
      "(1512212832556, 171202220712, 36.4)\n",
      "(1512212862572, 171202220742, 36.4)\n",
      "(1512212892586, 171202220812, 36.4)\n",
      "(1512212922599, 171202220842, 36.4)\n"
     ]
    }
   ],
   "source": [
    "#!/usr/bin/python\n",
    "\n",
    "import sqlite3\n",
    "\n",
    "conn = sqlite3.connect('sqliteCpu02')\n",
    "print \"Opened database successfully\"\n",
    "print \"\"\n",
    "print(\" Timestamp    | Local Time  | Temperature\")\n",
    "print(\"====================================================\")\n",
    "cursor = conn.execute(\"SELECT * from HOME WHERE TEMP = 36.4\")\n",
    "for row in cursor:\n",
    "    print(row[0],row[1],row[2])\n",
    "    \n",
    "conn.close()"
   ]
  },
  {
   "cell_type": "code",
   "execution_count": 4,
   "metadata": {
    "collapsed": true
   },
   "outputs": [],
   "source": [
    "import sqlite3\n",
    "\n",
    "def search_temperature(temp):\n",
    "    conn = sqlite3.connect('sqliteCpu02')\n",
    "\n",
    "    str1 = \"SELECT * FROM HOME WHERE TEMP = \"\n",
    "    str2 = str(temp)\n",
    "    str3 = \";\"\n",
    "    sql = str1 + str2 + str3\n",
    "    cursor = conn.execute(sql)\n",
    "\n",
    "    print \"Opened database successfully\"\n",
    "    print \"\"\n",
    "    print(\" Timestamp    | Local Time  | Temperature\")\n",
    "    print(\"====================================================\")\n",
    "    \n",
    "    for row in cursor:\n",
    "        print(row[0],row[1],row[2])"
   ]
  },
  {
   "cell_type": "code",
   "execution_count": 5,
   "metadata": {
    "scrolled": true
   },
   "outputs": [
    {
     "name": "stdout",
     "output_type": "stream",
     "text": [
      "Opened database successfully\n",
      "\n",
      " Timestamp    | Local Time  | Temperature\n",
      "====================================================\n",
      "(1512212772527, 171202220612, 36.4)\n",
      "(1512212802540, 171202220642, 36.4)\n",
      "(1512212832556, 171202220712, 36.4)\n",
      "(1512212862572, 171202220742, 36.4)\n",
      "(1512212892586, 171202220812, 36.4)\n",
      "(1512212922599, 171202220842, 36.4)\n"
     ]
    }
   ],
   "source": [
    "# Put any temperature.\n",
    "search_temperature(36.4)"
   ]
  },
  {
   "cell_type": "markdown",
   "metadata": {},
   "source": [
    "# Eclipse Paho™ MQTT Python Pub/Sub Client"
   ]
  },
  {
   "cell_type": "code",
   "execution_count": 2,
   "metadata": {},
   "outputs": [
    {
     "name": "stdout",
     "output_type": "stream",
     "text": [
      "serverCpuTemp\n",
      "{\"data\":{\"time\":1513431969159,\"local\":20171217004609,\"temp\":33.8}}\n",
      "serverCpuTemp\n",
      "{\"data\":{\"time\":1513431999177,\"local\":20171217004639,\"temp\":33.9}}\n"
     ]
    }
   ],
   "source": [
    "import sys\n",
    "try:\n",
    "    import paho.mqtt.subscribe as subscribe\n",
    "except ImportError:\n",
    "    # This part is only required to run the example from within the examples\n",
    "    # directory when the module itself is not installed.\n",
    "    #\n",
    "    # If you have the module installed, just use \"import paho.mqtt.subscribe\"\n",
    "    import os\n",
    "    import inspect\n",
    "    cmd_subfolder = os.path.realpath(os.path.abspath(os.path.join(os.path.split(inspect.getfile( inspect.currentframe() ))[0],\"../src\")))\n",
    "    if cmd_subfolder not in sys.path:\n",
    "        sys.path.insert(0, cmd_subfolder)\n",
    "    import paho.mqtt.subscribe as subscribe\n",
    "    import paho.mqtt.client\n",
    "\n",
    "topics = ['serverCpuTemp']\n",
    "\n",
    "m = subscribe.simple(topics, hostname=\"iot.eclipse.org\", retained=False, msg_count=2)\n",
    "for a in m:\n",
    "    print(a.topic)\n",
    "    print(a.payload)"
   ]
  },
  {
   "cell_type": "code",
   "execution_count": null,
   "metadata": {
    "scrolled": false
   },
   "outputs": [
    {
     "name": "stdout",
     "output_type": "stream",
     "text": [
      "serverCpuTemp : {\"data\":{\"time\":1513432029194,\"local\":20171217004709,\"temp\":34}}\n",
      "serverCpuTemp : {\"data\":{\"time\":1513432059206,\"local\":20171217004739,\"temp\":34.1}}\n",
      "serverCpuTemp : {\"data\":{\"time\":1513432089215,\"local\":20171217004809,\"temp\":34.2}}\n"
     ]
    }
   ],
   "source": [
    "import sys\n",
    "try:\n",
    "    import paho.mqtt.subscribe as subscribe\n",
    "except ImportError:\n",
    "    # This part is only required to run the example from within the examples\n",
    "    # directory when the module itself is not installed.\n",
    "    #\n",
    "    # If you have the module installed, just use \"import paho.mqtt.subscribe\"\n",
    "    import os\n",
    "    import inspect\n",
    "    cmd_subfolder = os.path.realpath(os.path.abspath(os.path.join(os.path.split(inspect.getfile( inspect.currentframe() ))[0],\"../src\")))\n",
    "    if cmd_subfolder not in sys.path:\n",
    "        sys.path.insert(0, cmd_subfolder)\n",
    "    import paho.mqtt.subscribe as subscribe\n",
    "    import paho.mqtt.client\n",
    "\n",
    "def print_msg(client, userdata, message):\n",
    "    print(\"%s : %s\" % (message.topic, message.payload))\n",
    "    buf = message.payload\n",
    "    \n",
    "subscribe.callback(print_msg, \"serverCpuTemp\", hostname=\"iot.eclipse.org\")"
   ]
  },
  {
   "cell_type": "markdown",
   "metadata": {},
   "source": [
    "##  INSERT QUERY IN REAL TIME\n",
    "\n",
    "* SQLite <b>INSERT INTO</b> Statement is used to <b>add</b> new rows of data into a table in the database."
   ]
  },
  {
   "cell_type": "code",
   "execution_count": null,
   "metadata": {
    "scrolled": false
   },
   "outputs": [
    {
     "name": "stdout",
     "output_type": "stream",
     "text": [
      "Opened database successfully\n",
      "\n",
      "INSERT OPERATION\n",
      " Timestamp      | Local Time    | Temperature\n",
      "====================================================\n",
      "('1513434647607', '20171217013047', '35')\n",
      "('1513434677619', '20171217013117', '35')\n",
      "('1513434707631', '20171217013147', '35')\n"
     ]
    }
   ],
   "source": [
    "import sys \n",
    "import sqlite3\n",
    "import json\n",
    "\n",
    "conn = sqlite3.connect('sqliteCpu02')\n",
    "print \"Opened database successfully\";\n",
    "print \"\"\n",
    "print \"INSERT OPERATION\"\n",
    "print(\" Timestamp      | Local Time    | Temperature\")\n",
    "print(\"====================================================\")\n",
    "\n",
    "try:\n",
    "    import paho.mqtt.subscribe as subscribe\n",
    "except ImportError:\n",
    "    # This part is only required to run the example from within the examples\n",
    "    # directory when the module itself is not installed.\n",
    "    #\n",
    "    # If you have the module installed, just use \"import paho.mqtt.subscribe\"\n",
    "    import os\n",
    "    import inspect\n",
    "    cmd_subfolder = os.path.realpath(os.path.abspath(os.path.join(os.path.split(inspect.getfile( inspect.currentframe() ))[0],\"../src\")))\n",
    "    if cmd_subfolder not in sys.path:\n",
    "        sys.path.insert(0, cmd_subfolder)\n",
    "    import paho.mqtt.subscribe as subscribe\n",
    "    import paho.mqtt.client\n",
    "\n",
    "def print_msg(client, userdata, message):\n",
    "    #print(\"%s : %s\" % (message.topic, message.payload))\n",
    "    data = message.payload\n",
    "    # {\"data\":{\"time\":1513432029194,\"local\":20171217004709,\"temp\":34}}\n",
    "    jsonData = json.loads(data)\n",
    "    time = str(jsonData['data']['time'])\n",
    "    local = str(jsonData['data']['local'])\n",
    "    temp = str(jsonData['data']['temp'])\n",
    "    print(time, local, temp)\n",
    "    \n",
    "    str1 = \"INSERT INTO HOME (TIME,LOCAL,TEMP) \\\n",
    "      VALUES (\"\n",
    "    str2 = time \n",
    "    str3 = \", \"\n",
    "    str4 = local\n",
    "    str5 = \", \"\n",
    "    str6 = temp\n",
    "    str7 = \" )\"\n",
    "    insert = str1 + str2 + str3 + str4 + str5 + str6 + str7\n",
    "    conn.execute(insert)\n",
    "    conn.commit()\n",
    "\n",
    "subscribe.callback(print_msg, \"serverCpuTemp\", hostname=\"iot.eclipse.org\")"
   ]
  },
  {
   "cell_type": "markdown",
   "metadata": {},
   "source": [
    "## SELECT QUERY\n",
    "\n",
    "* SQLite <b>SELECT</b> statement is used to <b>fetch</b> the data from a SQLite database table which returns data in the form of a result table. These result tables are also called result sets."
   ]
  },
  {
   "cell_type": "code",
   "execution_count": 28,
   "metadata": {
    "scrolled": true
   },
   "outputs": [
    {
     "name": "stdout",
     "output_type": "stream",
     "text": [
      "Opened database successfully\n",
      "\n",
      " Timestamp    | Local Time  | Temperature\n",
      "====================================================\n",
      "(1513433386908, 20171217010946, 34.9)\n",
      "(1513433416927, 20171217011016, 34.8)\n",
      "(1513433446936, 20171217011046, 34.7)\n",
      "(1513433476953, 20171217011116, 34.6)\n",
      "(1513433506970, 20171217011146, 34.5)\n",
      "(1513433536983, 20171217011216, 34.4)\n"
     ]
    }
   ],
   "source": [
    "#!/usr/bin/python\n",
    "\n",
    "import sqlite3\n",
    "\n",
    "conn = sqlite3.connect('sqliteCpu02')\n",
    "print \"Opened database successfully\"\n",
    "print \"\"\n",
    "print(\" Timestamp    | Local Time  | Temperature\")\n",
    "print(\"====================================================\")\n",
    "cursor = conn.execute(\"SELECT * from HOME WHERE TEMP;\")\n",
    "for row in cursor:\n",
    "    print(row[0],row[1],row[2])\n",
    "    \n",
    "conn.close()"
   ]
  },
  {
   "cell_type": "markdown",
   "metadata": {},
   "source": [
    "## SELECT QUERY & PUSH/POP DATA INTO BOX"
   ]
  },
  {
   "cell_type": "code",
   "execution_count": 29,
   "metadata": {},
   "outputs": [
    {
     "name": "stdout",
     "output_type": "stream",
     "text": [
      "Opened database successfully\n",
      "\n",
      "[1, 2, 3, 4, 5, 6]\n",
      "\n",
      "[34.9, 34.8, 34.7, 34.6, 34.5, 34.4]\n",
      "\n",
      "This data is decending.\n"
     ]
    }
   ],
   "source": [
    "import sqlite3\n",
    "\n",
    "class Stack:\n",
    "    \n",
    "    def __init__(self):\n",
    "        self.items = []\n",
    "\n",
    "    def isEmpty(self):\n",
    "        return self.items == []\n",
    "\n",
    "    def push(self, item):\n",
    "        self.items.append(item)\n",
    "\n",
    "    def pop(self, item):\n",
    "        return self.items.pop(item)\n",
    "\n",
    "    def peek(self):\n",
    "        return self.items[len(self.items)-1]\n",
    "\n",
    "    def size(self):\n",
    "        return len(self.items)\n",
    "\n",
    "\n",
    "tempBox = Stack()\n",
    "temPopBox = Stack() \n",
    "humBox = Stack()\n",
    "timeBox = Stack()\n",
    "\n",
    "conn = sqlite3.connect('sqliteCpu02')\n",
    "print \"Opened database successfully\"\n",
    "print \"\"\n",
    "\n",
    "cursor = conn.execute(\"SELECT * from HOME WHERE TEMP\")\n",
    "for row in cursor:\n",
    "    tempBox.push(row[2])\n",
    "    temPopBox.push(row[2])\n",
    "    #print(row[0],row[1],row[2])\n",
    "\n",
    "# Making time = 1,2,3,4 .... n    \n",
    "max = len(tempBox.items)\n",
    "\n",
    "for count in range(1,max+1):\n",
    "    timeBox.push(count)\n",
    "    \n",
    "print timeBox.items\n",
    "print \"\"    \n",
    "print tempBox.items\n",
    "print \"\"\n",
    "\n",
    "xTime = timeBox.items\n",
    "yData = tempBox.items\n",
    "tData = temPopBox.items\n",
    "\n",
    "# Comparing between max and min in tData\n",
    "highBit = tData.pop(max-1)\n",
    "lowBit = tData.pop(0)\n",
    "\n",
    "if highBit > lowBit:\n",
    "    print \"This data is ascending.\"\n",
    "\n",
    "elif highBit < lowBit:\n",
    "    print \"This data is decending.\"\n",
    "    \n",
    "elif highBit == lowBit:\n",
    "    print \"This data is stable.\"\n",
    "\n",
    "#max = len(tempBox.items)\n",
    "#for count in range(1,max+1):\n",
    "#    timeBox.push(count)\n",
    "    #print (count)\n",
    "    \n",
    "conn.close()"
   ]
  },
  {
   "cell_type": "markdown",
   "metadata": {},
   "source": [
    "## DELETE QUERY\n",
    "\n",
    "* SQLite <b>DELETE QUERY</b> is used to <b>delete</b> the existing records from a table. You can use WHERE clause with <b>DELETE QUERY</b> to <b>delete</b> the selected rows, otherwise all the records would be deleted."
   ]
  },
  {
   "cell_type": "code",
   "execution_count": 27,
   "metadata": {
    "scrolled": false
   },
   "outputs": [
    {
     "name": "stdout",
     "output_type": "stream",
     "text": [
      "Opened database successfully\n",
      "Total number of rows deleted : 16\n",
      "\n",
      " Timestamp    | Local Time  | Temperature\n",
      "====================================================\n",
      "(1513433386908, 20171217010946, 34.9)\n",
      "(1513433416927, 20171217011016, 34.8)\n",
      "(1513433446936, 20171217011046, 34.7)\n",
      "(1513433476953, 20171217011116, 34.6)\n",
      "(1513433506970, 20171217011146, 34.5)\n",
      "(1513433536983, 20171217011216, 34.4)\n",
      "Operation done successfully\n"
     ]
    }
   ],
   "source": [
    "import sqlite3\n",
    "\n",
    "conn = sqlite3.connect('sqliteCpu02')\n",
    "print \"Opened database successfully\";\n",
    "\n",
    "#conn.execute(\"DELETE from HOME where LOCAL =  20171217012047;\")\n",
    "conn.execute(\"DELETE from HOME WHERE LOCAL BETWEEN '20171217011246' AND '20171217012017';\")\n",
    "conn.commit()\n",
    "print \"Total number of rows deleted :\", conn.total_changes\n",
    "\n",
    "print \"\"\n",
    "print(\" Timestamp    | Local Time  | Temperature\")\n",
    "print(\"====================================================\")\n",
    "cursor = conn.execute(\"SELECT * from HOME\")\n",
    "for row in cursor:\n",
    "    print(row[0],row[1],row[2])\n",
    "\n",
    "print \"Operation done successfully\";\n",
    "conn.close()"
   ]
  },
  {
   "cell_type": "markdown",
   "metadata": {},
   "source": [
    "# DROP TABLE\n",
    "\n",
    "* SQLite <b>DROP TABLE</b> statement is used to <b>remove</b> a table definition and all associated data, indexes, triggers, constraints, and permission specifications for that table."
   ]
  },
  {
   "cell_type": "code",
   "execution_count": 5,
   "metadata": {
    "scrolled": true
   },
   "outputs": [
    {
     "name": "stdout",
     "output_type": "stream",
     "text": [
      "Removed the table successfully\n"
     ]
    }
   ],
   "source": [
    "import sqlite3\n",
    "conn = sqlite3.connect('sqliteCpu02')\n",
    "cur = conn.cursor()\n",
    "sql = \"DROP TABLE HOME;\"\n",
    "cur.execute(sql)\n",
    "print \"Removed the table successfully\"\n",
    "conn.commit()\n",
    "conn.close()"
   ]
  },
  {
   "cell_type": "markdown",
   "metadata": {},
   "source": [
    "# TensorFlow Analytics"
   ]
  },
  {
   "cell_type": "markdown",
   "metadata": {},
   "source": [
    "* Linear Regression\n",
    "     ```\n",
    "     Linear Regression Model = W * x + b\n",
    "     ```"
   ]
  },
  {
   "cell_type": "code",
   "execution_count": 30,
   "metadata": {},
   "outputs": [
    {
     "name": "stdout",
     "output_type": "stream",
     "text": [
      "x data = [1, 2, 3, 4, 5, 6]\n",
      "y data = [34.9, 34.8, 34.7, 34.6, 34.5, 34.4]\n",
      "\n",
      "W: [-0.0999902] b: [ 34.99995804] loss: 2.12458e-09\n"
     ]
    }
   ],
   "source": [
    "# From https://www.tensorflow.org/get_started/get_started\n",
    "import tensorflow as tf\n",
    "\n",
    "# Model parameters\n",
    "W = tf.Variable([.3], dtype=tf.float32)\n",
    "b = tf.Variable([-.3], dtype=tf.float32)\n",
    "# Model input and output\n",
    "x = tf.placeholder(tf.float32)\n",
    "linear_model = W*x + b\n",
    "y = tf.placeholder(tf.float32)\n",
    "\n",
    "# loss\n",
    "loss = tf.reduce_sum(tf.square(linear_model - y)) # sum of the squares\n",
    "# optimizer\n",
    "optimizer = tf.train.GradientDescentOptimizer(0.01)\n",
    "train = optimizer.minimize(loss)\n",
    "\n",
    "# training data\n",
    "#x_train = [1, 2, 3, 4, 5]\n",
    "#y_train = [9.76, 10.08, 10.24, 10.4, 10.56]\n",
    "x_train = xTime\n",
    "y_train = yData\n",
    "print(\"x data = %s\"%(xTime))\n",
    "print(\"y data = %s\"%(yData))\n",
    "print(\"\")\n",
    "\n",
    "# training loop\n",
    "init = tf.global_variables_initializer()\n",
    "sess = tf.Session()\n",
    "sess.run(init) # reset values to wrong\n",
    "for i in range(1000): # 1000\n",
    "  sess.run(train,{x: x_train, y: y_train})\n",
    "\n",
    "# evaluate training accuracy\n",
    "curr_W, curr_b, curr_loss = sess.run([W, b, loss], {x: x_train, y: y_train})\n",
    "print(\"W: %s b: %s loss: %s\"%(curr_W, curr_b, curr_loss))"
   ]
  },
  {
   "cell_type": "markdown",
   "metadata": {},
   "source": [
    "### Plotting Graph"
   ]
  },
  {
   "cell_type": "code",
   "execution_count": 34,
   "metadata": {
    "scrolled": false
   },
   "outputs": [
    {
     "name": "stdout",
     "output_type": "stream",
     "text": [
      "         Linear Regression Model\n",
      "================================================\n",
      "\n",
      "This data is decending.\n"
     ]
    },
    {
     "data": {
      "image/png": "[encoded data removed]",
      "text/plain": [
       "<matplotlib.figure.Figure at 0x7f398b6c96d0>"
      ]
     },
     "metadata": {},
     "output_type": "display_data"
    },
    {
     "name": "stdout",
     "output_type": "stream",
     "text": [
      "x data = [1, 2, 3, 4, 5, 6]\n",
      "y data = [34.9, 34.8, 34.7, 34.6, 34.5, 34.4]\n",
      "\n",
      "w = [ 0.0999902] \n",
      "b = [ 34.99995804] \n",
      "\n",
      "Linear Regression Model:\n",
      "Y = w*x + b = [ 0.0999902]x + [ 34.99995804]\n",
      "\n",
      "If x = 0, y = [ 34.99995804]  \n",
      "IF y = 0, x = [ 350.03387451]  \n"
     ]
    }
   ],
   "source": [
    "# \"np\" and \"plt\" are common aliases for NumPy and Matplotlib, respectively.\n",
    "%matplotlib inline\n",
    "import numpy as np\n",
    "import matplotlib.pyplot as plt\n",
    "\n",
    "# x_train represents the features of our training data, the diameters of the pizzas.\n",
    "# A scikit-learn convention is to name the matrix of feature vectors X. \n",
    "# Uppercase letters indicate matrices, and lowercase letters indicate vectors.\n",
    "x_train = np.array([xTime]).reshape(-1, 1)\n",
    "#y_train = [35.43, 28.8, 28.48, 28.16, 28.16]\n",
    "\n",
    "plt.figure()\n",
    "plt.title('IoT Sensor Data')\n",
    "plt.xlabel('Time (10 minutes.)')\n",
    "plt.ylabel('Temperature')\n",
    "plt.plot(x_train, y_train, 'k.')\n",
    "plt.axis([0, 7, 34, 36]) # -x, +x, -y, +y\n",
    "plt.grid(True)\n",
    "# For example, W: [-1.5179733] b: [ 34.35990143] loss: 16.7751  loss means cost function\n",
    "# y = W.x + b (or) y = a.x + b  \n",
    "# y = -1.5179733 x + 34.35990143\n",
    "# If x = 0, y = 34.35990143\n",
    "# If y = 0, 1.5179733 x = 34.35990143, \n",
    "#           x = 34.35990143/1.5179733 = 22.6353793113  \n",
    "w = abs(curr_W)\n",
    "b = abs(curr_b)\n",
    "\n",
    "print(\"         Linear Regression Model\")\n",
    "print(\"================================================\")\n",
    "print(\"\")\n",
    "\n",
    "if highBit > lowBit:\n",
    "    minusData = -1\n",
    "    print \"This data is ascending.\"\n",
    "\n",
    "elif highBit < lowBit:\n",
    "    minusData = 1\n",
    "    print \"This data is decending.\"\n",
    "    \n",
    "elif highBit == lowBit:\n",
    "    minusData = 1\n",
    "    print \"This temperature data is stable.\"\n",
    "\n",
    "\n",
    "#If y = 0, x = b/w\n",
    "x = minusData*(b/w) \n",
    "# If the data increases, it should add \"-(minux)\"  (Ex) x = -(b/w)  \n",
    "# but If the data decreases, it should remove it.  (Ex) x =  (b/w)\n",
    "\n",
    "#plt.plot([0, -x], [b, 0], color='k', linestyle='-', linewidth=0.7)\n",
    "plt.plot([0, x], [b, 0], color='k', linestyle='--', linewidth=0.7)\n",
    "#plt.plot([40, 0], [42, b], color='k', linestyle='-', linewidth=0.7)\n",
    "#plt.plot([0, 2.6353793], [34.35990143, 0], color='k', linestyle='-', linewidth=0.7)\n",
    "plt.show()\n",
    "\n",
    "print(\"x data = %s\"%(xTime))\n",
    "print(\"y data = %s\"%(yData))\n",
    "print(\"\")\n",
    "print(\"w = %s \"%(w))\n",
    "print(\"b = %s \"%(b))\n",
    "print(\"\")\n",
    "print(\"Linear Regression Model:\")\n",
    "print(\"Y = w*x + b = %sx + %s\"%(w,b))\n",
    "print(\"\")\n",
    "print(\"If x = 0, y = %s  \"%(b))\n",
    "print(\"IF y = 0, x = %s  \"%(x))"
   ]
  },
  {
   "cell_type": "markdown",
   "metadata": {},
   "source": [
    "### Predict next temperature after 10 mins, 20 mins, 30 mins, and 40 mins."
   ]
  },
  {
   "cell_type": "code",
   "execution_count": 35,
   "metadata": {},
   "outputs": [
    {
     "name": "stdout",
     "output_type": "stream",
     "text": [
      "After 10 minutes, it would be: 34.40 °C .\n",
      "After 20 minutes, it would be: 34.30 °C .\n",
      "After 30 minutes, it would be: 34.20 °C .\n",
      "After 40 minutes, it would be: 34.10 °C .\n"
     ]
    }
   ],
   "source": [
    "import numpy as np\n",
    "from sklearn.linear_model import LinearRegression\n",
    "\n",
    "# training data\n",
    "#x_train = np.array([1, 2, 3, 4, 5]).reshape(-1, 1)\n",
    "#y_train = [36.4, 36.4, 36.3, 36.3, 36.2]\n",
    "\n",
    "# Create an instance of the estimator, LinearRegression\n",
    "model = LinearRegression()\n",
    "# Fit the model on the training data\n",
    "model.fit(x_train, y_train)\n",
    "# Predict the data of a temperature with a trend that has never been seen before\n",
    "test_temp = np.array([[6]])\n",
    "predicted_temp = model.predict(test_temp)[0]\n",
    "print('After 10 minutes, it would be: %.2f °C .' % predicted_temp)\n",
    "\n",
    "test_temp = np.array([[7]])\n",
    "predicted_temp = model.predict(test_temp)[0]\n",
    "print('After 20 minutes, it would be: %.2f °C .' % predicted_temp)\n",
    "\n",
    "test_temp = np.array([[8]])\n",
    "predicted_temp = model.predict(test_temp)[0]\n",
    "print('After 30 minutes, it would be: %.2f °C .' % predicted_temp)\n",
    "\n",
    "test_temp = np.array([[9]])\n",
    "predicted_temp = model.predict(test_temp)[0]\n",
    "print('After 40 minutes, it would be: %.2f °C .' % predicted_temp)"
   ]
  },
  {
   "cell_type": "code",
   "execution_count": 2,
   "metadata": {
    "collapsed": true
   },
   "outputs": [],
   "source": [
    "# Functions to show the Graphs\n",
    "\n",
    "import numpy as np\n",
    "from IPython.display import clear_output, Image, display, HTML\n",
    "\n",
    "\n",
    "def strip_consts(graph_def, max_const_size=32):\n",
    "    \"\"\"Strip large constant values from graph_def.\"\"\"\n",
    "    strip_def = tf.GraphDef()\n",
    "    for n0 in graph_def.node:\n",
    "        n = strip_def.node.add() \n",
    "        n.MergeFrom(n0)\n",
    "        if n.op == 'Const':\n",
    "            tensor = n.attr['value'].tensor\n",
    "            size = len(tensor.tensor_content)\n",
    "            if size > max_const_size:\n",
    "                tensor.tensor_content = b\"<stripped %d bytes>\"%size\n",
    "    return strip_def\n",
    "\n",
    "def show_graph(graph_def, max_const_size=32):\n",
    "    \"\"\"Visualize TensorFlow graph.\"\"\"\n",
    "    if hasattr(graph_def, 'as_graph_def'):\n",
    "        graph_def = graph_def.as_graph_def()\n",
    "    strip_def = strip_consts(graph_def, max_const_size=max_const_size)\n",
    "    code = \"\"\"\n",
    "        <script>\n",
    "          function load() {{\n",
    "            document.getElementById(\"{id}\").pbtxt = {data};\n",
    "          }}\n",
    "        </script>\n",
    "        <link rel=\"import\" href=\"https://tensorboard.appspot.com/tf-graph-basic.build.html\" onload=load()>\n",
    "        <div style=\"height:600px\">\n",
    "          <tf-graph-basic id=\"{id}\"></tf-graph-basic>\n",
    "        </div>\n",
    "    \"\"\".format(data=repr(str(strip_def)), id='graph'+str(np.random.rand()))\n",
    "\n",
    "    iframe = \"\"\"\n",
    "        <iframe seamless style=\"width:1200px;height:620px;border:0\" srcdoc=\"{}\"></iframe>\n",
    "    \"\"\".format(code.replace('\"', '&quot;'))\n",
    "    display(HTML(iframe))"
   ]
  },
  {
   "cell_type": "code",
   "execution_count": 3,
   "metadata": {
    "scrolled": false
   },
   "outputs": [
    {
     "data": {
      "text/html": [
       "\n",
       "        <iframe seamless style=\"width:1200px;height:620px;border:0\" srcdoc=\"\n",
       "        <script>\n",
       "          function load() {\n",
       "            document.getElementById(&quot;graph0.405664188394&quot;).pbtxt = 'node {\\n  name: &quot;Variable/initial_value&quot;\\n  op: &quot;Const&quot;\\n  attr {\\n    key: &quot;dtype&quot;\\n    value {\\n      type: DT_FLOAT\\n    }\\n  }\\n  attr {\\n    key: &quot;value&quot;\\n    value {\\n      tensor {\\n        dtype: DT_FLOAT\\n        tensor_shape {\\n          dim {\\n            size: 1\\n          }\\n        }\\n        float_val: 0.300000011921\\n      }\\n    }\\n  }\\n}\\nnode {\\n  name: &quot;Variable&quot;\\n  op: &quot;VariableV2&quot;\\n  attr {\\n    key: &quot;container&quot;\\n    value {\\n      s: &quot;&quot;\\n    }\\n  }\\n  attr {\\n    key: &quot;dtype&quot;\\n    value {\\n      type: DT_FLOAT\\n    }\\n  }\\n  attr {\\n    key: &quot;shape&quot;\\n    value {\\n      shape {\\n        dim {\\n          size: 1\\n        }\\n      }\\n    }\\n  }\\n  attr {\\n    key: &quot;shared_name&quot;\\n    value {\\n      s: &quot;&quot;\\n    }\\n  }\\n}\\nnode {\\n  name: &quot;Variable/Assign&quot;\\n  op: &quot;Assign&quot;\\n  input: &quot;Variable&quot;\\n  input: &quot;Variable/initial_value&quot;\\n  attr {\\n    key: &quot;T&quot;\\n    value {\\n      type: DT_FLOAT\\n    }\\n  }\\n  attr {\\n    key: &quot;_class&quot;\\n    value {\\n      list {\\n        s: &quot;loc:@Variable&quot;\\n      }\\n    }\\n  }\\n  attr {\\n    key: &quot;use_locking&quot;\\n    value {\\n      b: true\\n    }\\n  }\\n  attr {\\n    key: &quot;validate_shape&quot;\\n    value {\\n      b: true\\n    }\\n  }\\n}\\nnode {\\n  name: &quot;Variable/read&quot;\\n  op: &quot;Identity&quot;\\n  input: &quot;Variable&quot;\\n  attr {\\n    key: &quot;T&quot;\\n    value {\\n      type: DT_FLOAT\\n    }\\n  }\\n  attr {\\n    key: &quot;_class&quot;\\n    value {\\n      list {\\n        s: &quot;loc:@Variable&quot;\\n      }\\n    }\\n  }\\n}\\nnode {\\n  name: &quot;Variable_1/initial_value&quot;\\n  op: &quot;Const&quot;\\n  attr {\\n    key: &quot;dtype&quot;\\n    value {\\n      type: DT_FLOAT\\n    }\\n  }\\n  attr {\\n    key: &quot;value&quot;\\n    value {\\n      tensor {\\n        dtype: DT_FLOAT\\n        tensor_shape {\\n          dim {\\n            size: 1\\n          }\\n        }\\n        float_val: -0.300000011921\\n      }\\n    }\\n  }\\n}\\nnode {\\n  name: &quot;Variable_1&quot;\\n  op: &quot;VariableV2&quot;\\n  attr {\\n    key: &quot;container&quot;\\n    value {\\n      s: &quot;&quot;\\n    }\\n  }\\n  attr {\\n    key: &quot;dtype&quot;\\n    value {\\n      type: DT_FLOAT\\n    }\\n  }\\n  attr {\\n    key: &quot;shape&quot;\\n    value {\\n      shape {\\n        dim {\\n          size: 1\\n        }\\n      }\\n    }\\n  }\\n  attr {\\n    key: &quot;shared_name&quot;\\n    value {\\n      s: &quot;&quot;\\n    }\\n  }\\n}\\nnode {\\n  name: &quot;Variable_1/Assign&quot;\\n  op: &quot;Assign&quot;\\n  input: &quot;Variable_1&quot;\\n  input: &quot;Variable_1/initial_value&quot;\\n  attr {\\n    key: &quot;T&quot;\\n    value {\\n      type: DT_FLOAT\\n    }\\n  }\\n  attr {\\n    key: &quot;_class&quot;\\n    value {\\n      list {\\n        s: &quot;loc:@Variable_1&quot;\\n      }\\n    }\\n  }\\n  attr {\\n    key: &quot;use_locking&quot;\\n    value {\\n      b: true\\n    }\\n  }\\n  attr {\\n    key: &quot;validate_shape&quot;\\n    value {\\n      b: true\\n    }\\n  }\\n}\\nnode {\\n  name: &quot;Variable_1/read&quot;\\n  op: &quot;Identity&quot;\\n  input: &quot;Variable_1&quot;\\n  attr {\\n    key: &quot;T&quot;\\n    value {\\n      type: DT_FLOAT\\n    }\\n  }\\n  attr {\\n    key: &quot;_class&quot;\\n    value {\\n      list {\\n        s: &quot;loc:@Variable_1&quot;\\n      }\\n    }\\n  }\\n}\\nnode {\\n  name: &quot;Placeholder&quot;\\n  op: &quot;Placeholder&quot;\\n  attr {\\n    key: &quot;dtype&quot;\\n    value {\\n      type: DT_FLOAT\\n    }\\n  }\\n  attr {\\n    key: &quot;shape&quot;\\n    value {\\n      shape {\\n        unknown_rank: true\\n      }\\n    }\\n  }\\n}\\nnode {\\n  name: &quot;mul&quot;\\n  op: &quot;Mul&quot;\\n  input: &quot;Variable/read&quot;\\n  input: &quot;Placeholder&quot;\\n  attr {\\n    key: &quot;T&quot;\\n    value {\\n      type: DT_FLOAT\\n    }\\n  }\\n}\\nnode {\\n  name: &quot;add&quot;\\n  op: &quot;Add&quot;\\n  input: &quot;mul&quot;\\n  input: &quot;Variable_1/read&quot;\\n  attr {\\n    key: &quot;T&quot;\\n    value {\\n      type: DT_FLOAT\\n    }\\n  }\\n}\\nnode {\\n  name: &quot;Placeholder_1&quot;\\n  op: &quot;Placeholder&quot;\\n  attr {\\n    key: &quot;dtype&quot;\\n    value {\\n      type: DT_FLOAT\\n    }\\n  }\\n  attr {\\n    key: &quot;shape&quot;\\n    value {\\n      shape {\\n        unknown_rank: true\\n      }\\n    }\\n  }\\n}\\nnode {\\n  name: &quot;sub&quot;\\n  op: &quot;Sub&quot;\\n  input: &quot;add&quot;\\n  input: &quot;Placeholder_1&quot;\\n  attr {\\n    key: &quot;T&quot;\\n    value {\\n      type: DT_FLOAT\\n    }\\n  }\\n}\\nnode {\\n  name: &quot;Square&quot;\\n  op: &quot;Square&quot;\\n  input: &quot;sub&quot;\\n  attr {\\n    key: &quot;T&quot;\\n    value {\\n      type: DT_FLOAT\\n    }\\n  }\\n}\\nnode {\\n  name: &quot;Rank&quot;\\n  op: &quot;Rank&quot;\\n  input: &quot;Square&quot;\\n  attr {\\n    key: &quot;T&quot;\\n    value {\\n      type: DT_FLOAT\\n    }\\n  }\\n}\\nnode {\\n  name: &quot;range/start&quot;\\n  op: &quot;Const&quot;\\n  attr {\\n    key: &quot;dtype&quot;\\n    value {\\n      type: DT_INT32\\n    }\\n  }\\n  attr {\\n    key: &quot;value&quot;\\n    value {\\n      tensor {\\n        dtype: DT_INT32\\n        tensor_shape {\\n        }\\n        int_val: 0\\n      }\\n    }\\n  }\\n}\\nnode {\\n  name: &quot;range/delta&quot;\\n  op: &quot;Const&quot;\\n  attr {\\n    key: &quot;dtype&quot;\\n    value {\\n      type: DT_INT32\\n    }\\n  }\\n  attr {\\n    key: &quot;value&quot;\\n    value {\\n      tensor {\\n        dtype: DT_INT32\\n        tensor_shape {\\n        }\\n        int_val: 1\\n      }\\n    }\\n  }\\n}\\nnode {\\n  name: &quot;range&quot;\\n  op: &quot;Range&quot;\\n  input: &quot;range/start&quot;\\n  input: &quot;Rank&quot;\\n  input: &quot;range/delta&quot;\\n  attr {\\n    key: &quot;Tidx&quot;\\n    value {\\n      type: DT_INT32\\n    }\\n  }\\n}\\nnode {\\n  name: &quot;Sum&quot;\\n  op: &quot;Sum&quot;\\n  input: &quot;Square&quot;\\n  input: &quot;range&quot;\\n  attr {\\n    key: &quot;T&quot;\\n    value {\\n      type: DT_FLOAT\\n    }\\n  }\\n  attr {\\n    key: &quot;Tidx&quot;\\n    value {\\n      type: DT_INT32\\n    }\\n  }\\n  attr {\\n    key: &quot;keep_dims&quot;\\n    value {\\n      b: false\\n    }\\n  }\\n}\\nnode {\\n  name: &quot;gradients/Shape&quot;\\n  op: &quot;Shape&quot;\\n  input: &quot;Sum&quot;\\n  attr {\\n    key: &quot;T&quot;\\n    value {\\n      type: DT_FLOAT\\n    }\\n  }\\n  attr {\\n    key: &quot;out_type&quot;\\n    value {\\n      type: DT_INT32\\n    }\\n  }\\n}\\nnode {\\n  name: &quot;gradients/Const&quot;\\n  op: &quot;Const&quot;\\n  attr {\\n    key: &quot;dtype&quot;\\n    value {\\n      type: DT_FLOAT\\n    }\\n  }\\n  attr {\\n    key: &quot;value&quot;\\n    value {\\n      tensor {\\n        dtype: DT_FLOAT\\n        tensor_shape {\\n        }\\n        float_val: 1.0\\n      }\\n    }\\n  }\\n}\\nnode {\\n  name: &quot;gradients/Fill&quot;\\n  op: &quot;Fill&quot;\\n  input: &quot;gradients/Shape&quot;\\n  input: &quot;gradients/Const&quot;\\n  attr {\\n    key: &quot;T&quot;\\n    value {\\n      type: DT_FLOAT\\n    }\\n  }\\n}\\nnode {\\n  name: &quot;gradients/Sum_grad/Shape&quot;\\n  op: &quot;Shape&quot;\\n  input: &quot;Square&quot;\\n  attr {\\n    key: &quot;T&quot;\\n    value {\\n      type: DT_FLOAT\\n    }\\n  }\\n  attr {\\n    key: &quot;out_type&quot;\\n    value {\\n      type: DT_INT32\\n    }\\n  }\\n}\\nnode {\\n  name: &quot;gradients/Sum_grad/Size&quot;\\n  op: &quot;Size&quot;\\n  input: &quot;gradients/Sum_grad/Shape&quot;\\n  attr {\\n    key: &quot;T&quot;\\n    value {\\n      type: DT_INT32\\n    }\\n  }\\n  attr {\\n    key: &quot;out_type&quot;\\n    value {\\n      type: DT_INT32\\n    }\\n  }\\n}\\nnode {\\n  name: &quot;gradients/Sum_grad/add&quot;\\n  op: &quot;Add&quot;\\n  input: &quot;range&quot;\\n  input: &quot;gradients/Sum_grad/Size&quot;\\n  attr {\\n    key: &quot;T&quot;\\n    value {\\n      type: DT_INT32\\n    }\\n  }\\n}\\nnode {\\n  name: &quot;gradients/Sum_grad/mod&quot;\\n  op: &quot;FloorMod&quot;\\n  input: &quot;gradients/Sum_grad/add&quot;\\n  input: &quot;gradients/Sum_grad/Size&quot;\\n  attr {\\n    key: &quot;T&quot;\\n    value {\\n      type: DT_INT32\\n    }\\n  }\\n}\\nnode {\\n  name: &quot;gradients/Sum_grad/Shape_1&quot;\\n  op: &quot;Shape&quot;\\n  input: &quot;gradients/Sum_grad/mod&quot;\\n  attr {\\n    key: &quot;T&quot;\\n    value {\\n      type: DT_INT32\\n    }\\n  }\\n  attr {\\n    key: &quot;out_type&quot;\\n    value {\\n      type: DT_INT32\\n    }\\n  }\\n}\\nnode {\\n  name: &quot;gradients/Sum_grad/range/start&quot;\\n  op: &quot;Const&quot;\\n  attr {\\n    key: &quot;dtype&quot;\\n    value {\\n      type: DT_INT32\\n    }\\n  }\\n  attr {\\n    key: &quot;value&quot;\\n    value {\\n      tensor {\\n        dtype: DT_INT32\\n        tensor_shape {\\n        }\\n        int_val: 0\\n      }\\n    }\\n  }\\n}\\nnode {\\n  name: &quot;gradients/Sum_grad/range/delta&quot;\\n  op: &quot;Const&quot;\\n  attr {\\n    key: &quot;dtype&quot;\\n    value {\\n      type: DT_INT32\\n    }\\n  }\\n  attr {\\n    key: &quot;value&quot;\\n    value {\\n      tensor {\\n        dtype: DT_INT32\\n        tensor_shape {\\n        }\\n        int_val: 1\\n      }\\n    }\\n  }\\n}\\nnode {\\n  name: &quot;gradients/Sum_grad/range&quot;\\n  op: &quot;Range&quot;\\n  input: &quot;gradients/Sum_grad/range/start&quot;\\n  input: &quot;gradients/Sum_grad/Size&quot;\\n  input: &quot;gradients/Sum_grad/range/delta&quot;\\n  attr {\\n    key: &quot;Tidx&quot;\\n    value {\\n      type: DT_INT32\\n    }\\n  }\\n}\\nnode {\\n  name: &quot;gradients/Sum_grad/Fill/value&quot;\\n  op: &quot;Const&quot;\\n  attr {\\n    key: &quot;dtype&quot;\\n    value {\\n      type: DT_INT32\\n    }\\n  }\\n  attr {\\n    key: &quot;value&quot;\\n    value {\\n      tensor {\\n        dtype: DT_INT32\\n        tensor_shape {\\n        }\\n        int_val: 1\\n      }\\n    }\\n  }\\n}\\nnode {\\n  name: &quot;gradients/Sum_grad/Fill&quot;\\n  op: &quot;Fill&quot;\\n  input: &quot;gradients/Sum_grad/Shape_1&quot;\\n  input: &quot;gradients/Sum_grad/Fill/value&quot;\\n  attr {\\n    key: &quot;T&quot;\\n    value {\\n      type: DT_INT32\\n    }\\n  }\\n}\\nnode {\\n  name: &quot;gradients/Sum_grad/DynamicStitch&quot;\\n  op: &quot;DynamicStitch&quot;\\n  input: &quot;gradients/Sum_grad/range&quot;\\n  input: &quot;gradients/Sum_grad/mod&quot;\\n  input: &quot;gradients/Sum_grad/Shape&quot;\\n  input: &quot;gradients/Sum_grad/Fill&quot;\\n  attr {\\n    key: &quot;N&quot;\\n    value {\\n      i: 2\\n    }\\n  }\\n  attr {\\n    key: &quot;T&quot;\\n    value {\\n      type: DT_INT32\\n    }\\n  }\\n}\\nnode {\\n  name: &quot;gradients/Sum_grad/Maximum/y&quot;\\n  op: &quot;Const&quot;\\n  attr {\\n    key: &quot;dtype&quot;\\n    value {\\n      type: DT_INT32\\n    }\\n  }\\n  attr {\\n    key: &quot;value&quot;\\n    value {\\n      tensor {\\n        dtype: DT_INT32\\n        tensor_shape {\\n        }\\n        int_val: 1\\n      }\\n    }\\n  }\\n}\\nnode {\\n  name: &quot;gradients/Sum_grad/Maximum&quot;\\n  op: &quot;Maximum&quot;\\n  input: &quot;gradients/Sum_grad/DynamicStitch&quot;\\n  input: &quot;gradients/Sum_grad/Maximum/y&quot;\\n  attr {\\n    key: &quot;T&quot;\\n    value {\\n      type: DT_INT32\\n    }\\n  }\\n}\\nnode {\\n  name: &quot;gradients/Sum_grad/floordiv&quot;\\n  op: &quot;FloorDiv&quot;\\n  input: &quot;gradients/Sum_grad/Shape&quot;\\n  input: &quot;gradients/Sum_grad/Maximum&quot;\\n  attr {\\n    key: &quot;T&quot;\\n    value {\\n      type: DT_INT32\\n    }\\n  }\\n}\\nnode {\\n  name: &quot;gradients/Sum_grad/Reshape&quot;\\n  op: &quot;Reshape&quot;\\n  input: &quot;gradients/Fill&quot;\\n  input: &quot;gradients/Sum_grad/DynamicStitch&quot;\\n  attr {\\n    key: &quot;T&quot;\\n    value {\\n      type: DT_FLOAT\\n    }\\n  }\\n  attr {\\n    key: &quot;Tshape&quot;\\n    value {\\n      type: DT_INT32\\n    }\\n  }\\n}\\nnode {\\n  name: &quot;gradients/Sum_grad/Tile&quot;\\n  op: &quot;Tile&quot;\\n  input: &quot;gradients/Sum_grad/Reshape&quot;\\n  input: &quot;gradients/Sum_grad/floordiv&quot;\\n  attr {\\n    key: &quot;T&quot;\\n    value {\\n      type: DT_FLOAT\\n    }\\n  }\\n  attr {\\n    key: &quot;Tmultiples&quot;\\n    value {\\n      type: DT_INT32\\n    }\\n  }\\n}\\nnode {\\n  name: &quot;gradients/Square_grad/mul/x&quot;\\n  op: &quot;Const&quot;\\n  input: &quot;^gradients/Sum_grad/Tile&quot;\\n  attr {\\n    key: &quot;dtype&quot;\\n    value {\\n      type: DT_FLOAT\\n    }\\n  }\\n  attr {\\n    key: &quot;value&quot;\\n    value {\\n      tensor {\\n        dtype: DT_FLOAT\\n        tensor_shape {\\n        }\\n        float_val: 2.0\\n      }\\n    }\\n  }\\n}\\nnode {\\n  name: &quot;gradients/Square_grad/mul&quot;\\n  op: &quot;Mul&quot;\\n  input: &quot;gradients/Square_grad/mul/x&quot;\\n  input: &quot;sub&quot;\\n  attr {\\n    key: &quot;T&quot;\\n    value {\\n      type: DT_FLOAT\\n    }\\n  }\\n}\\nnode {\\n  name: &quot;gradients/Square_grad/mul_1&quot;\\n  op: &quot;Mul&quot;\\n  input: &quot;gradients/Sum_grad/Tile&quot;\\n  input: &quot;gradients/Square_grad/mul&quot;\\n  attr {\\n    key: &quot;T&quot;\\n    value {\\n      type: DT_FLOAT\\n    }\\n  }\\n}\\nnode {\\n  name: &quot;gradients/sub_grad/Shape&quot;\\n  op: &quot;Shape&quot;\\n  input: &quot;add&quot;\\n  attr {\\n    key: &quot;T&quot;\\n    value {\\n      type: DT_FLOAT\\n    }\\n  }\\n  attr {\\n    key: &quot;out_type&quot;\\n    value {\\n      type: DT_INT32\\n    }\\n  }\\n}\\nnode {\\n  name: &quot;gradients/sub_grad/Shape_1&quot;\\n  op: &quot;Shape&quot;\\n  input: &quot;Placeholder_1&quot;\\n  attr {\\n    key: &quot;T&quot;\\n    value {\\n      type: DT_FLOAT\\n    }\\n  }\\n  attr {\\n    key: &quot;out_type&quot;\\n    value {\\n      type: DT_INT32\\n    }\\n  }\\n}\\nnode {\\n  name: &quot;gradients/sub_grad/BroadcastGradientArgs&quot;\\n  op: &quot;BroadcastGradientArgs&quot;\\n  input: &quot;gradients/sub_grad/Shape&quot;\\n  input: &quot;gradients/sub_grad/Shape_1&quot;\\n  attr {\\n    key: &quot;T&quot;\\n    value {\\n      type: DT_INT32\\n    }\\n  }\\n}\\nnode {\\n  name: &quot;gradients/sub_grad/Sum&quot;\\n  op: &quot;Sum&quot;\\n  input: &quot;gradients/Square_grad/mul_1&quot;\\n  input: &quot;gradients/sub_grad/BroadcastGradientArgs&quot;\\n  attr {\\n    key: &quot;T&quot;\\n    value {\\n      type: DT_FLOAT\\n    }\\n  }\\n  attr {\\n    key: &quot;Tidx&quot;\\n    value {\\n      type: DT_INT32\\n    }\\n  }\\n  attr {\\n    key: &quot;keep_dims&quot;\\n    value {\\n      b: false\\n    }\\n  }\\n}\\nnode {\\n  name: &quot;gradients/sub_grad/Reshape&quot;\\n  op: &quot;Reshape&quot;\\n  input: &quot;gradients/sub_grad/Sum&quot;\\n  input: &quot;gradients/sub_grad/Shape&quot;\\n  attr {\\n    key: &quot;T&quot;\\n    value {\\n      type: DT_FLOAT\\n    }\\n  }\\n  attr {\\n    key: &quot;Tshape&quot;\\n    value {\\n      type: DT_INT32\\n    }\\n  }\\n}\\nnode {\\n  name: &quot;gradients/sub_grad/Sum_1&quot;\\n  op: &quot;Sum&quot;\\n  input: &quot;gradients/Square_grad/mul_1&quot;\\n  input: &quot;gradients/sub_grad/BroadcastGradientArgs:1&quot;\\n  attr {\\n    key: &quot;T&quot;\\n    value {\\n      type: DT_FLOAT\\n    }\\n  }\\n  attr {\\n    key: &quot;Tidx&quot;\\n    value {\\n      type: DT_INT32\\n    }\\n  }\\n  attr {\\n    key: &quot;keep_dims&quot;\\n    value {\\n      b: false\\n    }\\n  }\\n}\\nnode {\\n  name: &quot;gradients/sub_grad/Neg&quot;\\n  op: &quot;Neg&quot;\\n  input: &quot;gradients/sub_grad/Sum_1&quot;\\n  attr {\\n    key: &quot;T&quot;\\n    value {\\n      type: DT_FLOAT\\n    }\\n  }\\n}\\nnode {\\n  name: &quot;gradients/sub_grad/Reshape_1&quot;\\n  op: &quot;Reshape&quot;\\n  input: &quot;gradients/sub_grad/Neg&quot;\\n  input: &quot;gradients/sub_grad/Shape_1&quot;\\n  attr {\\n    key: &quot;T&quot;\\n    value {\\n      type: DT_FLOAT\\n    }\\n  }\\n  attr {\\n    key: &quot;Tshape&quot;\\n    value {\\n      type: DT_INT32\\n    }\\n  }\\n}\\nnode {\\n  name: &quot;gradients/sub_grad/tuple/group_deps&quot;\\n  op: &quot;NoOp&quot;\\n  input: &quot;^gradients/sub_grad/Reshape&quot;\\n  input: &quot;^gradients/sub_grad/Reshape_1&quot;\\n}\\nnode {\\n  name: &quot;gradients/sub_grad/tuple/control_dependency&quot;\\n  op: &quot;Identity&quot;\\n  input: &quot;gradients/sub_grad/Reshape&quot;\\n  input: &quot;^gradients/sub_grad/tuple/group_deps&quot;\\n  attr {\\n    key: &quot;T&quot;\\n    value {\\n      type: DT_FLOAT\\n    }\\n  }\\n  attr {\\n    key: &quot;_class&quot;\\n    value {\\n      list {\\n        s: &quot;loc:@gradients/sub_grad/Reshape&quot;\\n      }\\n    }\\n  }\\n}\\nnode {\\n  name: &quot;gradients/sub_grad/tuple/control_dependency_1&quot;\\n  op: &quot;Identity&quot;\\n  input: &quot;gradients/sub_grad/Reshape_1&quot;\\n  input: &quot;^gradients/sub_grad/tuple/group_deps&quot;\\n  attr {\\n    key: &quot;T&quot;\\n    value {\\n      type: DT_FLOAT\\n    }\\n  }\\n  attr {\\n    key: &quot;_class&quot;\\n    value {\\n      list {\\n        s: &quot;loc:@gradients/sub_grad/Reshape_1&quot;\\n      }\\n    }\\n  }\\n}\\nnode {\\n  name: &quot;gradients/add_grad/Shape&quot;\\n  op: &quot;Shape&quot;\\n  input: &quot;mul&quot;\\n  attr {\\n    key: &quot;T&quot;\\n    value {\\n      type: DT_FLOAT\\n    }\\n  }\\n  attr {\\n    key: &quot;out_type&quot;\\n    value {\\n      type: DT_INT32\\n    }\\n  }\\n}\\nnode {\\n  name: &quot;gradients/add_grad/Shape_1&quot;\\n  op: &quot;Const&quot;\\n  attr {\\n    key: &quot;dtype&quot;\\n    value {\\n      type: DT_INT32\\n    }\\n  }\\n  attr {\\n    key: &quot;value&quot;\\n    value {\\n      tensor {\\n        dtype: DT_INT32\\n        tensor_shape {\\n          dim {\\n            size: 1\\n          }\\n        }\\n        int_val: 1\\n      }\\n    }\\n  }\\n}\\nnode {\\n  name: &quot;gradients/add_grad/BroadcastGradientArgs&quot;\\n  op: &quot;BroadcastGradientArgs&quot;\\n  input: &quot;gradients/add_grad/Shape&quot;\\n  input: &quot;gradients/add_grad/Shape_1&quot;\\n  attr {\\n    key: &quot;T&quot;\\n    value {\\n      type: DT_INT32\\n    }\\n  }\\n}\\nnode {\\n  name: &quot;gradients/add_grad/Sum&quot;\\n  op: &quot;Sum&quot;\\n  input: &quot;gradients/sub_grad/tuple/control_dependency&quot;\\n  input: &quot;gradients/add_grad/BroadcastGradientArgs&quot;\\n  attr {\\n    key: &quot;T&quot;\\n    value {\\n      type: DT_FLOAT\\n    }\\n  }\\n  attr {\\n    key: &quot;Tidx&quot;\\n    value {\\n      type: DT_INT32\\n    }\\n  }\\n  attr {\\n    key: &quot;keep_dims&quot;\\n    value {\\n      b: false\\n    }\\n  }\\n}\\nnode {\\n  name: &quot;gradients/add_grad/Reshape&quot;\\n  op: &quot;Reshape&quot;\\n  input: &quot;gradients/add_grad/Sum&quot;\\n  input: &quot;gradients/add_grad/Shape&quot;\\n  attr {\\n    key: &quot;T&quot;\\n    value {\\n      type: DT_FLOAT\\n    }\\n  }\\n  attr {\\n    key: &quot;Tshape&quot;\\n    value {\\n      type: DT_INT32\\n    }\\n  }\\n}\\nnode {\\n  name: &quot;gradients/add_grad/Sum_1&quot;\\n  op: &quot;Sum&quot;\\n  input: &quot;gradients/sub_grad/tuple/control_dependency&quot;\\n  input: &quot;gradients/add_grad/BroadcastGradientArgs:1&quot;\\n  attr {\\n    key: &quot;T&quot;\\n    value {\\n      type: DT_FLOAT\\n    }\\n  }\\n  attr {\\n    key: &quot;Tidx&quot;\\n    value {\\n      type: DT_INT32\\n    }\\n  }\\n  attr {\\n    key: &quot;keep_dims&quot;\\n    value {\\n      b: false\\n    }\\n  }\\n}\\nnode {\\n  name: &quot;gradients/add_grad/Reshape_1&quot;\\n  op: &quot;Reshape&quot;\\n  input: &quot;gradients/add_grad/Sum_1&quot;\\n  input: &quot;gradients/add_grad/Shape_1&quot;\\n  attr {\\n    key: &quot;T&quot;\\n    value {\\n      type: DT_FLOAT\\n    }\\n  }\\n  attr {\\n    key: &quot;Tshape&quot;\\n    value {\\n      type: DT_INT32\\n    }\\n  }\\n}\\nnode {\\n  name: &quot;gradients/add_grad/tuple/group_deps&quot;\\n  op: &quot;NoOp&quot;\\n  input: &quot;^gradients/add_grad/Reshape&quot;\\n  input: &quot;^gradients/add_grad/Reshape_1&quot;\\n}\\nnode {\\n  name: &quot;gradients/add_grad/tuple/control_dependency&quot;\\n  op: &quot;Identity&quot;\\n  input: &quot;gradients/add_grad/Reshape&quot;\\n  input: &quot;^gradients/add_grad/tuple/group_deps&quot;\\n  attr {\\n    key: &quot;T&quot;\\n    value {\\n      type: DT_FLOAT\\n    }\\n  }\\n  attr {\\n    key: &quot;_class&quot;\\n    value {\\n      list {\\n        s: &quot;loc:@gradients/add_grad/Reshape&quot;\\n      }\\n    }\\n  }\\n}\\nnode {\\n  name: &quot;gradients/add_grad/tuple/control_dependency_1&quot;\\n  op: &quot;Identity&quot;\\n  input: &quot;gradients/add_grad/Reshape_1&quot;\\n  input: &quot;^gradients/add_grad/tuple/group_deps&quot;\\n  attr {\\n    key: &quot;T&quot;\\n    value {\\n      type: DT_FLOAT\\n    }\\n  }\\n  attr {\\n    key: &quot;_class&quot;\\n    value {\\n      list {\\n        s: &quot;loc:@gradients/add_grad/Reshape_1&quot;\\n      }\\n    }\\n  }\\n}\\nnode {\\n  name: &quot;gradients/mul_grad/Shape&quot;\\n  op: &quot;Const&quot;\\n  attr {\\n    key: &quot;dtype&quot;\\n    value {\\n      type: DT_INT32\\n    }\\n  }\\n  attr {\\n    key: &quot;value&quot;\\n    value {\\n      tensor {\\n        dtype: DT_INT32\\n        tensor_shape {\\n          dim {\\n            size: 1\\n          }\\n        }\\n        int_val: 1\\n      }\\n    }\\n  }\\n}\\nnode {\\n  name: &quot;gradients/mul_grad/Shape_1&quot;\\n  op: &quot;Shape&quot;\\n  input: &quot;Placeholder&quot;\\n  attr {\\n    key: &quot;T&quot;\\n    value {\\n      type: DT_FLOAT\\n    }\\n  }\\n  attr {\\n    key: &quot;out_type&quot;\\n    value {\\n      type: DT_INT32\\n    }\\n  }\\n}\\nnode {\\n  name: &quot;gradients/mul_grad/BroadcastGradientArgs&quot;\\n  op: &quot;BroadcastGradientArgs&quot;\\n  input: &quot;gradients/mul_grad/Shape&quot;\\n  input: &quot;gradients/mul_grad/Shape_1&quot;\\n  attr {\\n    key: &quot;T&quot;\\n    value {\\n      type: DT_INT32\\n    }\\n  }\\n}\\nnode {\\n  name: &quot;gradients/mul_grad/mul&quot;\\n  op: &quot;Mul&quot;\\n  input: &quot;gradients/add_grad/tuple/control_dependency&quot;\\n  input: &quot;Placeholder&quot;\\n  attr {\\n    key: &quot;T&quot;\\n    value {\\n      type: DT_FLOAT\\n    }\\n  }\\n}\\nnode {\\n  name: &quot;gradients/mul_grad/Sum&quot;\\n  op: &quot;Sum&quot;\\n  input: &quot;gradients/mul_grad/mul&quot;\\n  input: &quot;gradients/mul_grad/BroadcastGradientArgs&quot;\\n  attr {\\n    key: &quot;T&quot;\\n    value {\\n      type: DT_FLOAT\\n    }\\n  }\\n  attr {\\n    key: &quot;Tidx&quot;\\n    value {\\n      type: DT_INT32\\n    }\\n  }\\n  attr {\\n    key: &quot;keep_dims&quot;\\n    value {\\n      b: false\\n    }\\n  }\\n}\\nnode {\\n  name: &quot;gradients/mul_grad/Reshape&quot;\\n  op: &quot;Reshape&quot;\\n  input: &quot;gradients/mul_grad/Sum&quot;\\n  input: &quot;gradients/mul_grad/Shape&quot;\\n  attr {\\n    key: &quot;T&quot;\\n    value {\\n      type: DT_FLOAT\\n    }\\n  }\\n  attr {\\n    key: &quot;Tshape&quot;\\n    value {\\n      type: DT_INT32\\n    }\\n  }\\n}\\nnode {\\n  name: &quot;gradients/mul_grad/mul_1&quot;\\n  op: &quot;Mul&quot;\\n  input: &quot;Variable/read&quot;\\n  input: &quot;gradients/add_grad/tuple/control_dependency&quot;\\n  attr {\\n    key: &quot;T&quot;\\n    value {\\n      type: DT_FLOAT\\n    }\\n  }\\n}\\nnode {\\n  name: &quot;gradients/mul_grad/Sum_1&quot;\\n  op: &quot;Sum&quot;\\n  input: &quot;gradients/mul_grad/mul_1&quot;\\n  input: &quot;gradients/mul_grad/BroadcastGradientArgs:1&quot;\\n  attr {\\n    key: &quot;T&quot;\\n    value {\\n      type: DT_FLOAT\\n    }\\n  }\\n  attr {\\n    key: &quot;Tidx&quot;\\n    value {\\n      type: DT_INT32\\n    }\\n  }\\n  attr {\\n    key: &quot;keep_dims&quot;\\n    value {\\n      b: false\\n    }\\n  }\\n}\\nnode {\\n  name: &quot;gradients/mul_grad/Reshape_1&quot;\\n  op: &quot;Reshape&quot;\\n  input: &quot;gradients/mul_grad/Sum_1&quot;\\n  input: &quot;gradients/mul_grad/Shape_1&quot;\\n  attr {\\n    key: &quot;T&quot;\\n    value {\\n      type: DT_FLOAT\\n    }\\n  }\\n  attr {\\n    key: &quot;Tshape&quot;\\n    value {\\n      type: DT_INT32\\n    }\\n  }\\n}\\nnode {\\n  name: &quot;gradients/mul_grad/tuple/group_deps&quot;\\n  op: &quot;NoOp&quot;\\n  input: &quot;^gradients/mul_grad/Reshape&quot;\\n  input: &quot;^gradients/mul_grad/Reshape_1&quot;\\n}\\nnode {\\n  name: &quot;gradients/mul_grad/tuple/control_dependency&quot;\\n  op: &quot;Identity&quot;\\n  input: &quot;gradients/mul_grad/Reshape&quot;\\n  input: &quot;^gradients/mul_grad/tuple/group_deps&quot;\\n  attr {\\n    key: &quot;T&quot;\\n    value {\\n      type: DT_FLOAT\\n    }\\n  }\\n  attr {\\n    key: &quot;_class&quot;\\n    value {\\n      list {\\n        s: &quot;loc:@gradients/mul_grad/Reshape&quot;\\n      }\\n    }\\n  }\\n}\\nnode {\\n  name: &quot;gradients/mul_grad/tuple/control_dependency_1&quot;\\n  op: &quot;Identity&quot;\\n  input: &quot;gradients/mul_grad/Reshape_1&quot;\\n  input: &quot;^gradients/mul_grad/tuple/group_deps&quot;\\n  attr {\\n    key: &quot;T&quot;\\n    value {\\n      type: DT_FLOAT\\n    }\\n  }\\n  attr {\\n    key: &quot;_class&quot;\\n    value {\\n      list {\\n        s: &quot;loc:@gradients/mul_grad/Reshape_1&quot;\\n      }\\n    }\\n  }\\n}\\nnode {\\n  name: &quot;GradientDescent/learning_rate&quot;\\n  op: &quot;Const&quot;\\n  attr {\\n    key: &quot;dtype&quot;\\n    value {\\n      type: DT_FLOAT\\n    }\\n  }\\n  attr {\\n    key: &quot;value&quot;\\n    value {\\n      tensor {\\n        dtype: DT_FLOAT\\n        tensor_shape {\\n        }\\n        float_val: 0.00999999977648\\n      }\\n    }\\n  }\\n}\\nnode {\\n  name: &quot;GradientDescent/update_Variable/ApplyGradientDescent&quot;\\n  op: &quot;ApplyGradientDescent&quot;\\n  input: &quot;Variable&quot;\\n  input: &quot;GradientDescent/learning_rate&quot;\\n  input: &quot;gradients/mul_grad/tuple/control_dependency&quot;\\n  attr {\\n    key: &quot;T&quot;\\n    value {\\n      type: DT_FLOAT\\n    }\\n  }\\n  attr {\\n    key: &quot;_class&quot;\\n    value {\\n      list {\\n        s: &quot;loc:@Variable&quot;\\n      }\\n    }\\n  }\\n  attr {\\n    key: &quot;use_locking&quot;\\n    value {\\n      b: false\\n    }\\n  }\\n}\\nnode {\\n  name: &quot;GradientDescent/update_Variable_1/ApplyGradientDescent&quot;\\n  op: &quot;ApplyGradientDescent&quot;\\n  input: &quot;Variable_1&quot;\\n  input: &quot;GradientDescent/learning_rate&quot;\\n  input: &quot;gradients/add_grad/tuple/control_dependency_1&quot;\\n  attr {\\n    key: &quot;T&quot;\\n    value {\\n      type: DT_FLOAT\\n    }\\n  }\\n  attr {\\n    key: &quot;_class&quot;\\n    value {\\n      list {\\n        s: &quot;loc:@Variable_1&quot;\\n      }\\n    }\\n  }\\n  attr {\\n    key: &quot;use_locking&quot;\\n    value {\\n      b: false\\n    }\\n  }\\n}\\nnode {\\n  name: &quot;GradientDescent&quot;\\n  op: &quot;NoOp&quot;\\n  input: &quot;^GradientDescent/update_Variable/ApplyGradientDescent&quot;\\n  input: &quot;^GradientDescent/update_Variable_1/ApplyGradientDescent&quot;\\n}\\nnode {\\n  name: &quot;init&quot;\\n  op: &quot;NoOp&quot;\\n  input: &quot;^Variable/Assign&quot;\\n  input: &quot;^Variable_1/Assign&quot;\\n}\\n';\n",
       "          }\n",
       "        </script>\n",
       "        <link rel=&quot;import&quot; href=&quot;https://tensorboard.appspot.com/tf-graph-basic.build.html&quot; onload=load()>\n",
       "        <div style=&quot;height:600px&quot;>\n",
       "          <tf-graph-basic id=&quot;graph0.405664188394&quot;></tf-graph-basic>\n",
       "        </div>\n",
       "    \"></iframe>\n",
       "    "
      ],
      "text/plain": [
       "<IPython.core.display.HTML object>"
      ]
     },
     "metadata": {},
     "output_type": "display_data"
    }
   ],
   "source": [
    "show_graph(tf.get_default_graph())"
   ]
  },
  {
   "cell_type": "markdown",
   "metadata": {},
   "source": [
    "# REFERENCES"
   ]
  },
  {
   "cell_type": "markdown",
   "metadata": {},
   "source": [
    "* SQLite Tutorial: https://www.tutorialspoint.com/sqlite/\n",
    "* SQLite Quick Guide: https://www.tutorialspoint.com/sqlite/sqlite_quick_guide.htm\n",
    "* SQLite - Python Tuotorial: https://www.tutorialspoint.com/sqlite/sqlite_python.htm\n",
    "* SQLite - Python Quick Guide: https://github.com/leehaesung/SQLite-Python_Quick_Guide\n",
    "* Get Started TensorFlow: https://www.tensorflow.org/get_started/get_started"
   ]
  }
 ],
 "metadata": {
  "kernelspec": {
   "display_name": "Python 2",
   "language": "python",
   "name": "python2"
  },
  "language_info": {
   "codemirror_mode": {
    "name": "ipython",
    "version": 2
   },
   "file_extension": ".py",
   "mimetype": "text/x-python",
   "name": "python",
   "nbconvert_exporter": "python",
   "pygments_lexer": "ipython2",
   "version": "2.7.6"
  }
 },
 "nbformat": 4,
 "nbformat_minor": 2
}
